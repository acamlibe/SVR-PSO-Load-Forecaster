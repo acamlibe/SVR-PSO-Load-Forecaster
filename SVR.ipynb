{
 "cells": [
  {
   "cell_type": "code",
   "execution_count": 1,
   "metadata": {
    "pycharm": {
     "name": "#%%\n"
    }
   },
   "outputs": [],
   "source": [
    "import numpy as np\n",
    "import pandas as pd\n",
    "from SARIMA import SARIMA\n",
    "from sklearn.svm import SVR"
   ]
  },
  {
   "cell_type": "code",
   "execution_count": 2,
   "metadata": {
    "pycharm": {
     "name": "#%%\n"
    }
   },
   "outputs": [
    {
     "data": {
      "text/plain": "                      DATE       MW     lag1     lag2     lag3     lag4\n0      2010-01-01 00:00:00  10273.0      NaN      NaN      NaN      NaN\n1      2010-01-01 01:00:00   9960.0  10273.0      NaN      NaN      NaN\n2      2010-01-01 02:00:00   9797.0   9960.0  10273.0      NaN      NaN\n3      2010-01-01 03:00:00   9715.0   9797.0   9960.0  10273.0      NaN\n4      2010-01-01 04:00:00   9851.0   9715.0   9797.0   9960.0  10273.0\n...                    ...      ...      ...      ...      ...      ...\n87643  2019-12-31 19:00:00  11682.0  11954.0  11767.0  10853.0  10259.0\n87644  2019-12-31 20:00:00  11443.0  11682.0  11954.0  11767.0  10853.0\n87645  2019-12-31 21:00:00  11167.0  11443.0  11682.0  11954.0  11767.0\n87646  2019-12-31 22:00:00  10839.0  11167.0  11443.0  11682.0  11954.0\n87647  2019-12-31 23:00:00  10593.0  10839.0  11167.0  11443.0  11682.0\n\n[87648 rows x 6 columns]",
      "text/html": "<div>\n<style scoped>\n    .dataframe tbody tr th:only-of-type {\n        vertical-align: middle;\n    }\n\n    .dataframe tbody tr th {\n        vertical-align: top;\n    }\n\n    .dataframe thead th {\n        text-align: right;\n    }\n</style>\n<table border=\"1\" class=\"dataframe\">\n  <thead>\n    <tr style=\"text-align: right;\">\n      <th></th>\n      <th>DATE</th>\n      <th>MW</th>\n      <th>lag1</th>\n      <th>lag2</th>\n      <th>lag3</th>\n      <th>lag4</th>\n    </tr>\n  </thead>\n  <tbody>\n    <tr>\n      <th>0</th>\n      <td>2010-01-01 00:00:00</td>\n      <td>10273.0</td>\n      <td>NaN</td>\n      <td>NaN</td>\n      <td>NaN</td>\n      <td>NaN</td>\n    </tr>\n    <tr>\n      <th>1</th>\n      <td>2010-01-01 01:00:00</td>\n      <td>9960.0</td>\n      <td>10273.0</td>\n      <td>NaN</td>\n      <td>NaN</td>\n      <td>NaN</td>\n    </tr>\n    <tr>\n      <th>2</th>\n      <td>2010-01-01 02:00:00</td>\n      <td>9797.0</td>\n      <td>9960.0</td>\n      <td>10273.0</td>\n      <td>NaN</td>\n      <td>NaN</td>\n    </tr>\n    <tr>\n      <th>3</th>\n      <td>2010-01-01 03:00:00</td>\n      <td>9715.0</td>\n      <td>9797.0</td>\n      <td>9960.0</td>\n      <td>10273.0</td>\n      <td>NaN</td>\n    </tr>\n    <tr>\n      <th>4</th>\n      <td>2010-01-01 04:00:00</td>\n      <td>9851.0</td>\n      <td>9715.0</td>\n      <td>9797.0</td>\n      <td>9960.0</td>\n      <td>10273.0</td>\n    </tr>\n    <tr>\n      <th>...</th>\n      <td>...</td>\n      <td>...</td>\n      <td>...</td>\n      <td>...</td>\n      <td>...</td>\n      <td>...</td>\n    </tr>\n    <tr>\n      <th>87643</th>\n      <td>2019-12-31 19:00:00</td>\n      <td>11682.0</td>\n      <td>11954.0</td>\n      <td>11767.0</td>\n      <td>10853.0</td>\n      <td>10259.0</td>\n    </tr>\n    <tr>\n      <th>87644</th>\n      <td>2019-12-31 20:00:00</td>\n      <td>11443.0</td>\n      <td>11682.0</td>\n      <td>11954.0</td>\n      <td>11767.0</td>\n      <td>10853.0</td>\n    </tr>\n    <tr>\n      <th>87645</th>\n      <td>2019-12-31 21:00:00</td>\n      <td>11167.0</td>\n      <td>11443.0</td>\n      <td>11682.0</td>\n      <td>11954.0</td>\n      <td>11767.0</td>\n    </tr>\n    <tr>\n      <th>87646</th>\n      <td>2019-12-31 22:00:00</td>\n      <td>10839.0</td>\n      <td>11167.0</td>\n      <td>11443.0</td>\n      <td>11682.0</td>\n      <td>11954.0</td>\n    </tr>\n    <tr>\n      <th>87647</th>\n      <td>2019-12-31 23:00:00</td>\n      <td>10593.0</td>\n      <td>10839.0</td>\n      <td>11167.0</td>\n      <td>11443.0</td>\n      <td>11682.0</td>\n    </tr>\n  </tbody>\n</table>\n<p>87648 rows × 6 columns</p>\n</div>"
     },
     "execution_count": 2,
     "metadata": {},
     "output_type": "execute_result"
    }
   ],
   "source": [
    "load_df = pd.read_csv('Data/DOM/Load Actuals/Processed/Aggregated/load.csv')\n",
    "load_df['lag1'] = load_df['MW'].shift()\n",
    "load_df['lag2'] = load_df['MW'].shift(2)\n",
    "load_df['lag3'] = load_df['MW'].shift(3)\n",
    "load_df['lag4'] = load_df['MW'].shift(4)\n",
    "load_df"
   ]
  },
  {
   "cell_type": "code",
   "execution_count": 3,
   "metadata": {
    "pycharm": {
     "name": "#%%\n"
    }
   },
   "outputs": [
    {
     "data": {
      "text/plain": "                      DATE   CR    HR  XHR        RH\n0      2010-01-01 00:00:00  0.0  13.0  1.0  0.924584\n1      2010-01-01 01:00:00  0.0  13.0  2.0  0.924584\n2      2010-01-01 02:00:00  0.0  13.0  1.0  0.924584\n3      2010-01-01 03:00:00  0.0  13.0  2.0  0.961468\n4      2010-01-01 04:00:00  0.0  13.0  2.0  0.924584\n...                    ...  ...   ...  ...       ...\n87643  2019-12-31 19:00:00  0.0   4.0  0.0  0.398229\n87644  2019-12-31 20:00:00  0.0   4.0  0.0  0.396591\n87645  2019-12-31 21:00:00  0.0   5.0  0.0  0.411376\n87646  2019-12-31 22:00:00  0.0   8.0  0.0  0.515690\n87647  2019-12-31 23:00:00  0.0   8.0  0.0  0.495189\n\n[87648 rows x 5 columns]",
      "text/html": "<div>\n<style scoped>\n    .dataframe tbody tr th:only-of-type {\n        vertical-align: middle;\n    }\n\n    .dataframe tbody tr th {\n        vertical-align: top;\n    }\n\n    .dataframe thead th {\n        text-align: right;\n    }\n</style>\n<table border=\"1\" class=\"dataframe\">\n  <thead>\n    <tr style=\"text-align: right;\">\n      <th></th>\n      <th>DATE</th>\n      <th>CR</th>\n      <th>HR</th>\n      <th>XHR</th>\n      <th>RH</th>\n    </tr>\n  </thead>\n  <tbody>\n    <tr>\n      <th>0</th>\n      <td>2010-01-01 00:00:00</td>\n      <td>0.0</td>\n      <td>13.0</td>\n      <td>1.0</td>\n      <td>0.924584</td>\n    </tr>\n    <tr>\n      <th>1</th>\n      <td>2010-01-01 01:00:00</td>\n      <td>0.0</td>\n      <td>13.0</td>\n      <td>2.0</td>\n      <td>0.924584</td>\n    </tr>\n    <tr>\n      <th>2</th>\n      <td>2010-01-01 02:00:00</td>\n      <td>0.0</td>\n      <td>13.0</td>\n      <td>1.0</td>\n      <td>0.924584</td>\n    </tr>\n    <tr>\n      <th>3</th>\n      <td>2010-01-01 03:00:00</td>\n      <td>0.0</td>\n      <td>13.0</td>\n      <td>2.0</td>\n      <td>0.961468</td>\n    </tr>\n    <tr>\n      <th>4</th>\n      <td>2010-01-01 04:00:00</td>\n      <td>0.0</td>\n      <td>13.0</td>\n      <td>2.0</td>\n      <td>0.924584</td>\n    </tr>\n    <tr>\n      <th>...</th>\n      <td>...</td>\n      <td>...</td>\n      <td>...</td>\n      <td>...</td>\n      <td>...</td>\n    </tr>\n    <tr>\n      <th>87643</th>\n      <td>2019-12-31 19:00:00</td>\n      <td>0.0</td>\n      <td>4.0</td>\n      <td>0.0</td>\n      <td>0.398229</td>\n    </tr>\n    <tr>\n      <th>87644</th>\n      <td>2019-12-31 20:00:00</td>\n      <td>0.0</td>\n      <td>4.0</td>\n      <td>0.0</td>\n      <td>0.396591</td>\n    </tr>\n    <tr>\n      <th>87645</th>\n      <td>2019-12-31 21:00:00</td>\n      <td>0.0</td>\n      <td>5.0</td>\n      <td>0.0</td>\n      <td>0.411376</td>\n    </tr>\n    <tr>\n      <th>87646</th>\n      <td>2019-12-31 22:00:00</td>\n      <td>0.0</td>\n      <td>8.0</td>\n      <td>0.0</td>\n      <td>0.515690</td>\n    </tr>\n    <tr>\n      <th>87647</th>\n      <td>2019-12-31 23:00:00</td>\n      <td>0.0</td>\n      <td>8.0</td>\n      <td>0.0</td>\n      <td>0.495189</td>\n    </tr>\n  </tbody>\n</table>\n<p>87648 rows × 5 columns</p>\n</div>"
     },
     "execution_count": 3,
     "metadata": {},
     "output_type": "execute_result"
    }
   ],
   "source": [
    "weather_df = pd.read_csv('Data/DOM/Weather/Processed/Aggregated/weather.csv')\n",
    "weather_df['DEW_C'] = (weather_df['DEW'] - 32) * (5.0/9)\n",
    "weather_df['TMP_C'] = (weather_df['TMP'] - 32) * (5.0/9)\n",
    "weather_df['RH'] = (np.exp((17.625*weather_df['DEW_C'])/(243.04+weather_df['DEW_C']))/np.exp((17.625*weather_df['TMP_C'])/(243.04+weather_df['TMP_C']))) \n",
    "weather_df.drop(['TMP', 'DEW', 'WND', 'DEW_C', 'TMP_C'], axis=1, inplace=True)\n",
    "weather_df"
   ]
  },
  {
   "cell_type": "code",
   "execution_count": 4,
   "metadata": {
    "pycharm": {
     "name": "#%%\n"
    }
   },
   "outputs": [
    {
     "data": {
      "text/plain": "                      DATE  IS_MONDAY  IS_TUESDAY  IS_WEDNESDAY  IS_THURSDAY  \\\n0      2010-01-01 00:00:00          0           0             0            0   \n1      2010-01-01 01:00:00          0           0             0            0   \n2      2010-01-01 02:00:00          0           0             0            0   \n3      2010-01-01 03:00:00          0           0             0            0   \n4      2010-01-01 04:00:00          0           0             0            0   \n...                    ...        ...         ...           ...          ...   \n87643  2019-12-31 19:00:00          0           1             0            0   \n87644  2019-12-31 20:00:00          0           1             0            0   \n87645  2019-12-31 21:00:00          0           1             0            0   \n87646  2019-12-31 22:00:00          0           1             0            0   \n87647  2019-12-31 23:00:00          0           1             0            0   \n\n       IS_FRIDAY  IS_SATURDAY  IS_SUNDAY  IS_JANUARY  IS_FEBRUARY  ...  \\\n0              1            0          0           1            0  ...   \n1              1            0          0           1            0  ...   \n2              1            0          0           1            0  ...   \n3              1            0          0           1            0  ...   \n4              1            0          0           1            0  ...   \n...          ...          ...        ...         ...          ...  ...   \n87643          0            0          0           0            0  ...   \n87644          0            0          0           0            0  ...   \n87645          0            0          0           0            0  ...   \n87646          0            0          0           0            0  ...   \n87647          0            0          0           0            0  ...   \n\n       IS_JULY  IS_AUGUST  IS_SEPTEMBER  IS_OCTOBER  IS_NOVEMBER  IS_DECEMBER  \\\n0            0          0             0           0            0            0   \n1            0          0             0           0            0            0   \n2            0          0             0           0            0            0   \n3            0          0             0           0            0            0   \n4            0          0             0           0            0            0   \n...        ...        ...           ...         ...          ...          ...   \n87643        0          0             0           0            0            1   \n87644        0          0             0           0            0            1   \n87645        0          0             0           0            0            1   \n87646        0          0             0           0            0            1   \n87647        0          0             0           0            0            1   \n\n       IS_PREVDAY_HOLIDAY  IS_CURRENTDAY_HOLIDAY  IS_NEXTDAY_HOLIDAY  \\\n0                       0                      1                   0   \n1                       0                      1                   0   \n2                       0                      1                   0   \n3                       0                      1                   0   \n4                       0                      1                   0   \n...                   ...                    ...                 ...   \n87643                   0                      0                   1   \n87644                   0                      0                   1   \n87645                   0                      0                   1   \n87646                   0                      0                   1   \n87647                   0                      0                   1   \n\n       IS_DAYAFTER_HOLIDAY  \n0                        0  \n1                        0  \n2                        0  \n3                        0  \n4                        0  \n...                    ...  \n87643                    0  \n87644                    0  \n87645                    0  \n87646                    0  \n87647                    0  \n\n[87648 rows x 24 columns]",
      "text/html": "<div>\n<style scoped>\n    .dataframe tbody tr th:only-of-type {\n        vertical-align: middle;\n    }\n\n    .dataframe tbody tr th {\n        vertical-align: top;\n    }\n\n    .dataframe thead th {\n        text-align: right;\n    }\n</style>\n<table border=\"1\" class=\"dataframe\">\n  <thead>\n    <tr style=\"text-align: right;\">\n      <th></th>\n      <th>DATE</th>\n      <th>IS_MONDAY</th>\n      <th>IS_TUESDAY</th>\n      <th>IS_WEDNESDAY</th>\n      <th>IS_THURSDAY</th>\n      <th>IS_FRIDAY</th>\n      <th>IS_SATURDAY</th>\n      <th>IS_SUNDAY</th>\n      <th>IS_JANUARY</th>\n      <th>IS_FEBRUARY</th>\n      <th>...</th>\n      <th>IS_JULY</th>\n      <th>IS_AUGUST</th>\n      <th>IS_SEPTEMBER</th>\n      <th>IS_OCTOBER</th>\n      <th>IS_NOVEMBER</th>\n      <th>IS_DECEMBER</th>\n      <th>IS_PREVDAY_HOLIDAY</th>\n      <th>IS_CURRENTDAY_HOLIDAY</th>\n      <th>IS_NEXTDAY_HOLIDAY</th>\n      <th>IS_DAYAFTER_HOLIDAY</th>\n    </tr>\n  </thead>\n  <tbody>\n    <tr>\n      <th>0</th>\n      <td>2010-01-01 00:00:00</td>\n      <td>0</td>\n      <td>0</td>\n      <td>0</td>\n      <td>0</td>\n      <td>1</td>\n      <td>0</td>\n      <td>0</td>\n      <td>1</td>\n      <td>0</td>\n      <td>...</td>\n      <td>0</td>\n      <td>0</td>\n      <td>0</td>\n      <td>0</td>\n      <td>0</td>\n      <td>0</td>\n      <td>0</td>\n      <td>1</td>\n      <td>0</td>\n      <td>0</td>\n    </tr>\n    <tr>\n      <th>1</th>\n      <td>2010-01-01 01:00:00</td>\n      <td>0</td>\n      <td>0</td>\n      <td>0</td>\n      <td>0</td>\n      <td>1</td>\n      <td>0</td>\n      <td>0</td>\n      <td>1</td>\n      <td>0</td>\n      <td>...</td>\n      <td>0</td>\n      <td>0</td>\n      <td>0</td>\n      <td>0</td>\n      <td>0</td>\n      <td>0</td>\n      <td>0</td>\n      <td>1</td>\n      <td>0</td>\n      <td>0</td>\n    </tr>\n    <tr>\n      <th>2</th>\n      <td>2010-01-01 02:00:00</td>\n      <td>0</td>\n      <td>0</td>\n      <td>0</td>\n      <td>0</td>\n      <td>1</td>\n      <td>0</td>\n      <td>0</td>\n      <td>1</td>\n      <td>0</td>\n      <td>...</td>\n      <td>0</td>\n      <td>0</td>\n      <td>0</td>\n      <td>0</td>\n      <td>0</td>\n      <td>0</td>\n      <td>0</td>\n      <td>1</td>\n      <td>0</td>\n      <td>0</td>\n    </tr>\n    <tr>\n      <th>3</th>\n      <td>2010-01-01 03:00:00</td>\n      <td>0</td>\n      <td>0</td>\n      <td>0</td>\n      <td>0</td>\n      <td>1</td>\n      <td>0</td>\n      <td>0</td>\n      <td>1</td>\n      <td>0</td>\n      <td>...</td>\n      <td>0</td>\n      <td>0</td>\n      <td>0</td>\n      <td>0</td>\n      <td>0</td>\n      <td>0</td>\n      <td>0</td>\n      <td>1</td>\n      <td>0</td>\n      <td>0</td>\n    </tr>\n    <tr>\n      <th>4</th>\n      <td>2010-01-01 04:00:00</td>\n      <td>0</td>\n      <td>0</td>\n      <td>0</td>\n      <td>0</td>\n      <td>1</td>\n      <td>0</td>\n      <td>0</td>\n      <td>1</td>\n      <td>0</td>\n      <td>...</td>\n      <td>0</td>\n      <td>0</td>\n      <td>0</td>\n      <td>0</td>\n      <td>0</td>\n      <td>0</td>\n      <td>0</td>\n      <td>1</td>\n      <td>0</td>\n      <td>0</td>\n    </tr>\n    <tr>\n      <th>...</th>\n      <td>...</td>\n      <td>...</td>\n      <td>...</td>\n      <td>...</td>\n      <td>...</td>\n      <td>...</td>\n      <td>...</td>\n      <td>...</td>\n      <td>...</td>\n      <td>...</td>\n      <td>...</td>\n      <td>...</td>\n      <td>...</td>\n      <td>...</td>\n      <td>...</td>\n      <td>...</td>\n      <td>...</td>\n      <td>...</td>\n      <td>...</td>\n      <td>...</td>\n      <td>...</td>\n    </tr>\n    <tr>\n      <th>87643</th>\n      <td>2019-12-31 19:00:00</td>\n      <td>0</td>\n      <td>1</td>\n      <td>0</td>\n      <td>0</td>\n      <td>0</td>\n      <td>0</td>\n      <td>0</td>\n      <td>0</td>\n      <td>0</td>\n      <td>...</td>\n      <td>0</td>\n      <td>0</td>\n      <td>0</td>\n      <td>0</td>\n      <td>0</td>\n      <td>1</td>\n      <td>0</td>\n      <td>0</td>\n      <td>1</td>\n      <td>0</td>\n    </tr>\n    <tr>\n      <th>87644</th>\n      <td>2019-12-31 20:00:00</td>\n      <td>0</td>\n      <td>1</td>\n      <td>0</td>\n      <td>0</td>\n      <td>0</td>\n      <td>0</td>\n      <td>0</td>\n      <td>0</td>\n      <td>0</td>\n      <td>...</td>\n      <td>0</td>\n      <td>0</td>\n      <td>0</td>\n      <td>0</td>\n      <td>0</td>\n      <td>1</td>\n      <td>0</td>\n      <td>0</td>\n      <td>1</td>\n      <td>0</td>\n    </tr>\n    <tr>\n      <th>87645</th>\n      <td>2019-12-31 21:00:00</td>\n      <td>0</td>\n      <td>1</td>\n      <td>0</td>\n      <td>0</td>\n      <td>0</td>\n      <td>0</td>\n      <td>0</td>\n      <td>0</td>\n      <td>0</td>\n      <td>...</td>\n      <td>0</td>\n      <td>0</td>\n      <td>0</td>\n      <td>0</td>\n      <td>0</td>\n      <td>1</td>\n      <td>0</td>\n      <td>0</td>\n      <td>1</td>\n      <td>0</td>\n    </tr>\n    <tr>\n      <th>87646</th>\n      <td>2019-12-31 22:00:00</td>\n      <td>0</td>\n      <td>1</td>\n      <td>0</td>\n      <td>0</td>\n      <td>0</td>\n      <td>0</td>\n      <td>0</td>\n      <td>0</td>\n      <td>0</td>\n      <td>...</td>\n      <td>0</td>\n      <td>0</td>\n      <td>0</td>\n      <td>0</td>\n      <td>0</td>\n      <td>1</td>\n      <td>0</td>\n      <td>0</td>\n      <td>1</td>\n      <td>0</td>\n    </tr>\n    <tr>\n      <th>87647</th>\n      <td>2019-12-31 23:00:00</td>\n      <td>0</td>\n      <td>1</td>\n      <td>0</td>\n      <td>0</td>\n      <td>0</td>\n      <td>0</td>\n      <td>0</td>\n      <td>0</td>\n      <td>0</td>\n      <td>...</td>\n      <td>0</td>\n      <td>0</td>\n      <td>0</td>\n      <td>0</td>\n      <td>0</td>\n      <td>1</td>\n      <td>0</td>\n      <td>0</td>\n      <td>1</td>\n      <td>0</td>\n    </tr>\n  </tbody>\n</table>\n<p>87648 rows × 24 columns</p>\n</div>"
     },
     "execution_count": 4,
     "metadata": {},
     "output_type": "execute_result"
    }
   ],
   "source": [
    "calendar_df = pd.read_csv('Data/calendar.csv')\n",
    "\n",
    "calendar_df"
   ]
  },
  {
   "cell_type": "code",
   "execution_count": 5,
   "metadata": {
    "pycharm": {
     "name": "#%%\n"
    }
   },
   "outputs": [
    {
     "data": {
      "text/plain": "                          MW     lag1     lag2     lag3     lag4   CR    HR  \\\nDATE                                                                          \n2010-01-01 04:00:00   9851.0   9715.0   9797.0   9960.0  10273.0  0.0  13.0   \n2010-01-01 05:00:00  10178.0   9851.0   9715.0   9797.0   9960.0  0.0  13.0   \n2010-01-01 06:00:00  10497.0  10178.0   9851.0   9715.0   9797.0  0.0  13.0   \n2010-01-01 07:00:00  10749.0  10497.0  10178.0   9851.0   9715.0  0.0  13.0   \n2010-01-01 08:00:00  11000.0  10749.0  10497.0  10178.0   9851.0  0.0  13.0   \n...                      ...      ...      ...      ...      ...  ...   ...   \n2019-12-31 19:00:00  11682.0  11954.0  11767.0  10853.0  10259.0  0.0   4.0   \n2019-12-31 20:00:00  11443.0  11682.0  11954.0  11767.0  10853.0  0.0   4.0   \n2019-12-31 21:00:00  11167.0  11443.0  11682.0  11954.0  11767.0  0.0   5.0   \n2019-12-31 22:00:00  10839.0  11167.0  11443.0  11682.0  11954.0  0.0   8.0   \n2019-12-31 23:00:00  10593.0  10839.0  11167.0  11443.0  11682.0  0.0   8.0   \n\n                     XHR        RH  IS_MONDAY  ...  IS_JULY  IS_AUGUST  \\\nDATE                                           ...                       \n2010-01-01 04:00:00  2.0  0.924584        0.0  ...      0.0        0.0   \n2010-01-01 05:00:00  1.0  0.924584        0.0  ...      0.0        0.0   \n2010-01-01 06:00:00  2.0  0.924584        0.0  ...      0.0        0.0   \n2010-01-01 07:00:00  1.0  0.888800        0.0  ...      0.0        0.0   \n2010-01-01 08:00:00  2.0  0.924256        0.0  ...      0.0        0.0   \n...                  ...       ...        ...  ...      ...        ...   \n2019-12-31 19:00:00  0.0  0.398229        0.0  ...      0.0        0.0   \n2019-12-31 20:00:00  0.0  0.396591        0.0  ...      0.0        0.0   \n2019-12-31 21:00:00  0.0  0.411376        0.0  ...      0.0        0.0   \n2019-12-31 22:00:00  0.0  0.515690        0.0  ...      0.0        0.0   \n2019-12-31 23:00:00  0.0  0.495189        0.0  ...      0.0        0.0   \n\n                     IS_SEPTEMBER  IS_OCTOBER  IS_NOVEMBER  IS_DECEMBER  \\\nDATE                                                                      \n2010-01-01 04:00:00           0.0         0.0          0.0          0.0   \n2010-01-01 05:00:00           0.0         0.0          0.0          0.0   \n2010-01-01 06:00:00           0.0         0.0          0.0          0.0   \n2010-01-01 07:00:00           0.0         0.0          0.0          0.0   \n2010-01-01 08:00:00           0.0         0.0          0.0          0.0   \n...                           ...         ...          ...          ...   \n2019-12-31 19:00:00           0.0         0.0          0.0          1.0   \n2019-12-31 20:00:00           0.0         0.0          0.0          1.0   \n2019-12-31 21:00:00           0.0         0.0          0.0          1.0   \n2019-12-31 22:00:00           0.0         0.0          0.0          1.0   \n2019-12-31 23:00:00           0.0         0.0          0.0          1.0   \n\n                     IS_PREVDAY_HOLIDAY  IS_CURRENTDAY_HOLIDAY  \\\nDATE                                                             \n2010-01-01 04:00:00                 0.0                    1.0   \n2010-01-01 05:00:00                 0.0                    1.0   \n2010-01-01 06:00:00                 0.0                    1.0   \n2010-01-01 07:00:00                 0.0                    1.0   \n2010-01-01 08:00:00                 0.0                    1.0   \n...                                 ...                    ...   \n2019-12-31 19:00:00                 0.0                    0.0   \n2019-12-31 20:00:00                 0.0                    0.0   \n2019-12-31 21:00:00                 0.0                    0.0   \n2019-12-31 22:00:00                 0.0                    0.0   \n2019-12-31 23:00:00                 0.0                    0.0   \n\n                     IS_NEXTDAY_HOLIDAY  IS_DAYAFTER_HOLIDAY  \nDATE                                                          \n2010-01-01 04:00:00                 0.0                  0.0  \n2010-01-01 05:00:00                 0.0                  0.0  \n2010-01-01 06:00:00                 0.0                  0.0  \n2010-01-01 07:00:00                 0.0                  0.0  \n2010-01-01 08:00:00                 0.0                  0.0  \n...                                 ...                  ...  \n2019-12-31 19:00:00                 1.0                  0.0  \n2019-12-31 20:00:00                 1.0                  0.0  \n2019-12-31 21:00:00                 1.0                  0.0  \n2019-12-31 22:00:00                 1.0                  0.0  \n2019-12-31 23:00:00                 1.0                  0.0  \n\n[87644 rows x 32 columns]",
      "text/html": "<div>\n<style scoped>\n    .dataframe tbody tr th:only-of-type {\n        vertical-align: middle;\n    }\n\n    .dataframe tbody tr th {\n        vertical-align: top;\n    }\n\n    .dataframe thead th {\n        text-align: right;\n    }\n</style>\n<table border=\"1\" class=\"dataframe\">\n  <thead>\n    <tr style=\"text-align: right;\">\n      <th></th>\n      <th>MW</th>\n      <th>lag1</th>\n      <th>lag2</th>\n      <th>lag3</th>\n      <th>lag4</th>\n      <th>CR</th>\n      <th>HR</th>\n      <th>XHR</th>\n      <th>RH</th>\n      <th>IS_MONDAY</th>\n      <th>...</th>\n      <th>IS_JULY</th>\n      <th>IS_AUGUST</th>\n      <th>IS_SEPTEMBER</th>\n      <th>IS_OCTOBER</th>\n      <th>IS_NOVEMBER</th>\n      <th>IS_DECEMBER</th>\n      <th>IS_PREVDAY_HOLIDAY</th>\n      <th>IS_CURRENTDAY_HOLIDAY</th>\n      <th>IS_NEXTDAY_HOLIDAY</th>\n      <th>IS_DAYAFTER_HOLIDAY</th>\n    </tr>\n    <tr>\n      <th>DATE</th>\n      <th></th>\n      <th></th>\n      <th></th>\n      <th></th>\n      <th></th>\n      <th></th>\n      <th></th>\n      <th></th>\n      <th></th>\n      <th></th>\n      <th></th>\n      <th></th>\n      <th></th>\n      <th></th>\n      <th></th>\n      <th></th>\n      <th></th>\n      <th></th>\n      <th></th>\n      <th></th>\n      <th></th>\n    </tr>\n  </thead>\n  <tbody>\n    <tr>\n      <th>2010-01-01 04:00:00</th>\n      <td>9851.0</td>\n      <td>9715.0</td>\n      <td>9797.0</td>\n      <td>9960.0</td>\n      <td>10273.0</td>\n      <td>0.0</td>\n      <td>13.0</td>\n      <td>2.0</td>\n      <td>0.924584</td>\n      <td>0.0</td>\n      <td>...</td>\n      <td>0.0</td>\n      <td>0.0</td>\n      <td>0.0</td>\n      <td>0.0</td>\n      <td>0.0</td>\n      <td>0.0</td>\n      <td>0.0</td>\n      <td>1.0</td>\n      <td>0.0</td>\n      <td>0.0</td>\n    </tr>\n    <tr>\n      <th>2010-01-01 05:00:00</th>\n      <td>10178.0</td>\n      <td>9851.0</td>\n      <td>9715.0</td>\n      <td>9797.0</td>\n      <td>9960.0</td>\n      <td>0.0</td>\n      <td>13.0</td>\n      <td>1.0</td>\n      <td>0.924584</td>\n      <td>0.0</td>\n      <td>...</td>\n      <td>0.0</td>\n      <td>0.0</td>\n      <td>0.0</td>\n      <td>0.0</td>\n      <td>0.0</td>\n      <td>0.0</td>\n      <td>0.0</td>\n      <td>1.0</td>\n      <td>0.0</td>\n      <td>0.0</td>\n    </tr>\n    <tr>\n      <th>2010-01-01 06:00:00</th>\n      <td>10497.0</td>\n      <td>10178.0</td>\n      <td>9851.0</td>\n      <td>9715.0</td>\n      <td>9797.0</td>\n      <td>0.0</td>\n      <td>13.0</td>\n      <td>2.0</td>\n      <td>0.924584</td>\n      <td>0.0</td>\n      <td>...</td>\n      <td>0.0</td>\n      <td>0.0</td>\n      <td>0.0</td>\n      <td>0.0</td>\n      <td>0.0</td>\n      <td>0.0</td>\n      <td>0.0</td>\n      <td>1.0</td>\n      <td>0.0</td>\n      <td>0.0</td>\n    </tr>\n    <tr>\n      <th>2010-01-01 07:00:00</th>\n      <td>10749.0</td>\n      <td>10497.0</td>\n      <td>10178.0</td>\n      <td>9851.0</td>\n      <td>9715.0</td>\n      <td>0.0</td>\n      <td>13.0</td>\n      <td>1.0</td>\n      <td>0.888800</td>\n      <td>0.0</td>\n      <td>...</td>\n      <td>0.0</td>\n      <td>0.0</td>\n      <td>0.0</td>\n      <td>0.0</td>\n      <td>0.0</td>\n      <td>0.0</td>\n      <td>0.0</td>\n      <td>1.0</td>\n      <td>0.0</td>\n      <td>0.0</td>\n    </tr>\n    <tr>\n      <th>2010-01-01 08:00:00</th>\n      <td>11000.0</td>\n      <td>10749.0</td>\n      <td>10497.0</td>\n      <td>10178.0</td>\n      <td>9851.0</td>\n      <td>0.0</td>\n      <td>13.0</td>\n      <td>2.0</td>\n      <td>0.924256</td>\n      <td>0.0</td>\n      <td>...</td>\n      <td>0.0</td>\n      <td>0.0</td>\n      <td>0.0</td>\n      <td>0.0</td>\n      <td>0.0</td>\n      <td>0.0</td>\n      <td>0.0</td>\n      <td>1.0</td>\n      <td>0.0</td>\n      <td>0.0</td>\n    </tr>\n    <tr>\n      <th>...</th>\n      <td>...</td>\n      <td>...</td>\n      <td>...</td>\n      <td>...</td>\n      <td>...</td>\n      <td>...</td>\n      <td>...</td>\n      <td>...</td>\n      <td>...</td>\n      <td>...</td>\n      <td>...</td>\n      <td>...</td>\n      <td>...</td>\n      <td>...</td>\n      <td>...</td>\n      <td>...</td>\n      <td>...</td>\n      <td>...</td>\n      <td>...</td>\n      <td>...</td>\n      <td>...</td>\n    </tr>\n    <tr>\n      <th>2019-12-31 19:00:00</th>\n      <td>11682.0</td>\n      <td>11954.0</td>\n      <td>11767.0</td>\n      <td>10853.0</td>\n      <td>10259.0</td>\n      <td>0.0</td>\n      <td>4.0</td>\n      <td>0.0</td>\n      <td>0.398229</td>\n      <td>0.0</td>\n      <td>...</td>\n      <td>0.0</td>\n      <td>0.0</td>\n      <td>0.0</td>\n      <td>0.0</td>\n      <td>0.0</td>\n      <td>1.0</td>\n      <td>0.0</td>\n      <td>0.0</td>\n      <td>1.0</td>\n      <td>0.0</td>\n    </tr>\n    <tr>\n      <th>2019-12-31 20:00:00</th>\n      <td>11443.0</td>\n      <td>11682.0</td>\n      <td>11954.0</td>\n      <td>11767.0</td>\n      <td>10853.0</td>\n      <td>0.0</td>\n      <td>4.0</td>\n      <td>0.0</td>\n      <td>0.396591</td>\n      <td>0.0</td>\n      <td>...</td>\n      <td>0.0</td>\n      <td>0.0</td>\n      <td>0.0</td>\n      <td>0.0</td>\n      <td>0.0</td>\n      <td>1.0</td>\n      <td>0.0</td>\n      <td>0.0</td>\n      <td>1.0</td>\n      <td>0.0</td>\n    </tr>\n    <tr>\n      <th>2019-12-31 21:00:00</th>\n      <td>11167.0</td>\n      <td>11443.0</td>\n      <td>11682.0</td>\n      <td>11954.0</td>\n      <td>11767.0</td>\n      <td>0.0</td>\n      <td>5.0</td>\n      <td>0.0</td>\n      <td>0.411376</td>\n      <td>0.0</td>\n      <td>...</td>\n      <td>0.0</td>\n      <td>0.0</td>\n      <td>0.0</td>\n      <td>0.0</td>\n      <td>0.0</td>\n      <td>1.0</td>\n      <td>0.0</td>\n      <td>0.0</td>\n      <td>1.0</td>\n      <td>0.0</td>\n    </tr>\n    <tr>\n      <th>2019-12-31 22:00:00</th>\n      <td>10839.0</td>\n      <td>11167.0</td>\n      <td>11443.0</td>\n      <td>11682.0</td>\n      <td>11954.0</td>\n      <td>0.0</td>\n      <td>8.0</td>\n      <td>0.0</td>\n      <td>0.515690</td>\n      <td>0.0</td>\n      <td>...</td>\n      <td>0.0</td>\n      <td>0.0</td>\n      <td>0.0</td>\n      <td>0.0</td>\n      <td>0.0</td>\n      <td>1.0</td>\n      <td>0.0</td>\n      <td>0.0</td>\n      <td>1.0</td>\n      <td>0.0</td>\n    </tr>\n    <tr>\n      <th>2019-12-31 23:00:00</th>\n      <td>10593.0</td>\n      <td>10839.0</td>\n      <td>11167.0</td>\n      <td>11443.0</td>\n      <td>11682.0</td>\n      <td>0.0</td>\n      <td>8.0</td>\n      <td>0.0</td>\n      <td>0.495189</td>\n      <td>0.0</td>\n      <td>...</td>\n      <td>0.0</td>\n      <td>0.0</td>\n      <td>0.0</td>\n      <td>0.0</td>\n      <td>0.0</td>\n      <td>1.0</td>\n      <td>0.0</td>\n      <td>0.0</td>\n      <td>1.0</td>\n      <td>0.0</td>\n    </tr>\n  </tbody>\n</table>\n<p>87644 rows × 32 columns</p>\n</div>"
     },
     "execution_count": 5,
     "metadata": {},
     "output_type": "execute_result"
    }
   ],
   "source": [
    "df = pd.concat([load_df,weather_df, calendar_df]).groupby('DATE').mean()\n",
    "\n",
    "df = df[4:]\n",
    "df"
   ]
  },
  {
   "cell_type": "code",
   "execution_count": 6,
   "metadata": {
    "pycharm": {
     "name": "#%%\n"
    }
   },
   "outputs": [],
   "source": [
    "x = df.iloc[:, 1:]\n",
    "y = df.iloc[:, 0]"
   ]
  },
  {
   "cell_type": "code",
   "execution_count": 7,
   "metadata": {
    "pycharm": {
     "name": "#%%\n"
    }
   },
   "outputs": [],
   "source": [
    "from sklearn.model_selection import train_test_split\n",
    "\n",
    "# train is now 75% of the entire data set\n",
    "# the _junk suffix means that we drop that variable completely\n",
    "x_train, x_test, y_train, y_test = train_test_split(x, y, random_state=0, shuffle=False, test_size=168)"
   ]
  },
  {
   "cell_type": "code",
   "execution_count": 8,
   "outputs": [],
   "source": [
    "x_test.lag1 = np.nan\n",
    "x_test.lag2 = np.nan\n",
    "x_test.lag3 = np.nan\n",
    "x_test.lag4 = np.nan"
   ],
   "metadata": {
    "collapsed": false,
    "pycharm": {
     "name": "#%%\n"
    }
   }
  },
  {
   "cell_type": "code",
   "execution_count": 9,
   "outputs": [],
   "source": [
    "sarima_train = y_train[-672:]\n",
    "sarima_test = y_test"
   ],
   "metadata": {
    "collapsed": false,
    "pycharm": {
     "name": "#%%\n"
    }
   }
  },
  {
   "cell_type": "code",
   "execution_count": 11,
   "outputs": [
    {
     "name": "stderr",
     "output_type": "stream",
     "text": [
      "/home/alic/PycharmProjects/SVR-PSO-Load-Forecaster/venv/lib/python3.8/site-packages/statsmodels/tsa/base/tsa_model.py:471: ValueWarning: No frequency information was provided, so inferred frequency H will be used.\n",
      "  self._init_dates(dates, freq)\n"
     ]
    }
   ],
   "source": [
    "import statsmodels.api as sm\n",
    "\n",
    "sarima_model = sm.tsa.statespace.SARIMAX(sarima_train,\n",
    "                                        order=(1, 1, 1),\n",
    "                                        seasonal_order=(1, 1, 1, 24),\n",
    "                                        enforce_stationarity=False,\n",
    "                                        enforce_invertibility=False, freq='H').fit(disp=False)"
   ],
   "metadata": {
    "collapsed": false,
    "pycharm": {
     "name": "#%%\n"
    }
   }
  },
  {
   "cell_type": "code",
   "execution_count": 12,
   "outputs": [
    {
     "data": {
      "text/plain": "2019-12-25 00:00:00    11145.882039\n2019-12-25 01:00:00    11110.840974\n2019-12-25 02:00:00    11150.354811\n2019-12-25 03:00:00    11307.229161\n2019-12-25 04:00:00    11664.796724\n                           ...     \n2019-12-31 19:00:00    13760.684415\n2019-12-31 20:00:00    13642.202957\n2019-12-31 21:00:00    13310.205058\n2019-12-31 22:00:00    12781.209855\n2019-12-31 23:00:00    12255.762152\nFreq: H, Name: predicted_mean, Length: 168, dtype: float64"
     },
     "execution_count": 12,
     "metadata": {},
     "output_type": "execute_result"
    }
   ],
   "source": [
    "pred = sarima_model.forecast(steps=168)\n",
    "pred"
   ],
   "metadata": {
    "collapsed": false,
    "pycharm": {
     "name": "#%%\n"
    }
   }
  },
  {
   "cell_type": "code",
   "execution_count": 13,
   "outputs": [
    {
     "data": {
      "text/plain": "2019-12-25 00:00:00    11146.0\n2019-12-25 01:00:00    11111.0\n2019-12-25 02:00:00    11150.0\n2019-12-25 03:00:00    11307.0\n2019-12-25 04:00:00    11665.0\n                        ...   \n2019-12-31 19:00:00    13761.0\n2019-12-31 20:00:00    13642.0\n2019-12-31 21:00:00    13310.0\n2019-12-31 22:00:00    12781.0\n2019-12-31 23:00:00    12256.0\nFreq: H, Name: predicted_mean, Length: 168, dtype: float64"
     },
     "execution_count": 13,
     "metadata": {},
     "output_type": "execute_result"
    }
   ],
   "source": [
    "pred = pred.round()\n",
    "pred"
   ],
   "metadata": {
    "collapsed": false,
    "pycharm": {
     "name": "#%%\n"
    }
   }
  },
  {
   "cell_type": "code",
   "execution_count": 14,
   "outputs": [],
   "source": [
    "pred = pd.DataFrame(pred)\n",
    "pred.set_index(pd.to_datetime(pred.index), inplace=True)\n"
   ],
   "metadata": {
    "collapsed": false,
    "pycharm": {
     "name": "#%%\n"
    }
   }
  },
  {
   "cell_type": "code",
   "execution_count": 15,
   "outputs": [
    {
     "data": {
      "text/plain": "                     lag1  lag2  lag3  lag4   CR    HR  XHR        RH  \\\nDATE                                                                    \n2019-12-25 00:00:00   NaN   NaN   NaN   NaN  0.0  10.0  0.0  0.675633   \n2019-12-25 01:00:00   NaN   NaN   NaN   NaN  0.0  13.0  2.0  0.788691   \n2019-12-25 02:00:00   NaN   NaN   NaN   NaN  0.0  13.0  2.0  0.787841   \n2019-12-25 03:00:00   NaN   NaN   NaN   NaN  0.0  14.0  4.0  0.852405   \n2019-12-25 04:00:00   NaN   NaN   NaN   NaN  0.0  15.0  4.0  0.851784   \n...                   ...   ...   ...   ...  ...   ...  ...       ...   \n2019-12-31 19:00:00   NaN   NaN   NaN   NaN  0.0   4.0  0.0  0.398229   \n2019-12-31 20:00:00   NaN   NaN   NaN   NaN  0.0   4.0  0.0  0.396591   \n2019-12-31 21:00:00   NaN   NaN   NaN   NaN  0.0   5.0  0.0  0.411376   \n2019-12-31 22:00:00   NaN   NaN   NaN   NaN  0.0   8.0  0.0  0.515690   \n2019-12-31 23:00:00   NaN   NaN   NaN   NaN  0.0   8.0  0.0  0.495189   \n\n                     IS_MONDAY  IS_TUESDAY  ...  IS_JULY  IS_AUGUST  \\\nDATE                                        ...                       \n2019-12-25 00:00:00        0.0         0.0  ...      0.0        0.0   \n2019-12-25 01:00:00        0.0         0.0  ...      0.0        0.0   \n2019-12-25 02:00:00        0.0         0.0  ...      0.0        0.0   \n2019-12-25 03:00:00        0.0         0.0  ...      0.0        0.0   \n2019-12-25 04:00:00        0.0         0.0  ...      0.0        0.0   \n...                        ...         ...  ...      ...        ...   \n2019-12-31 19:00:00        0.0         1.0  ...      0.0        0.0   \n2019-12-31 20:00:00        0.0         1.0  ...      0.0        0.0   \n2019-12-31 21:00:00        0.0         1.0  ...      0.0        0.0   \n2019-12-31 22:00:00        0.0         1.0  ...      0.0        0.0   \n2019-12-31 23:00:00        0.0         1.0  ...      0.0        0.0   \n\n                     IS_SEPTEMBER  IS_OCTOBER  IS_NOVEMBER  IS_DECEMBER  \\\nDATE                                                                      \n2019-12-25 00:00:00           0.0         0.0          0.0          1.0   \n2019-12-25 01:00:00           0.0         0.0          0.0          1.0   \n2019-12-25 02:00:00           0.0         0.0          0.0          1.0   \n2019-12-25 03:00:00           0.0         0.0          0.0          1.0   \n2019-12-25 04:00:00           0.0         0.0          0.0          1.0   \n...                           ...         ...          ...          ...   \n2019-12-31 19:00:00           0.0         0.0          0.0          1.0   \n2019-12-31 20:00:00           0.0         0.0          0.0          1.0   \n2019-12-31 21:00:00           0.0         0.0          0.0          1.0   \n2019-12-31 22:00:00           0.0         0.0          0.0          1.0   \n2019-12-31 23:00:00           0.0         0.0          0.0          1.0   \n\n                     IS_PREVDAY_HOLIDAY  IS_CURRENTDAY_HOLIDAY  \\\nDATE                                                             \n2019-12-25 00:00:00                 0.0                    1.0   \n2019-12-25 01:00:00                 0.0                    1.0   \n2019-12-25 02:00:00                 0.0                    1.0   \n2019-12-25 03:00:00                 0.0                    1.0   \n2019-12-25 04:00:00                 0.0                    1.0   \n...                                 ...                    ...   \n2019-12-31 19:00:00                 0.0                    0.0   \n2019-12-31 20:00:00                 0.0                    0.0   \n2019-12-31 21:00:00                 0.0                    0.0   \n2019-12-31 22:00:00                 0.0                    0.0   \n2019-12-31 23:00:00                 0.0                    0.0   \n\n                     IS_NEXTDAY_HOLIDAY  IS_DAYAFTER_HOLIDAY  \nDATE                                                          \n2019-12-25 00:00:00                 0.0                  0.0  \n2019-12-25 01:00:00                 0.0                  0.0  \n2019-12-25 02:00:00                 0.0                  0.0  \n2019-12-25 03:00:00                 0.0                  0.0  \n2019-12-25 04:00:00                 0.0                  0.0  \n...                                 ...                  ...  \n2019-12-31 19:00:00                 1.0                  0.0  \n2019-12-31 20:00:00                 1.0                  0.0  \n2019-12-31 21:00:00                 1.0                  0.0  \n2019-12-31 22:00:00                 1.0                  0.0  \n2019-12-31 23:00:00                 1.0                  0.0  \n\n[168 rows x 31 columns]",
      "text/html": "<div>\n<style scoped>\n    .dataframe tbody tr th:only-of-type {\n        vertical-align: middle;\n    }\n\n    .dataframe tbody tr th {\n        vertical-align: top;\n    }\n\n    .dataframe thead th {\n        text-align: right;\n    }\n</style>\n<table border=\"1\" class=\"dataframe\">\n  <thead>\n    <tr style=\"text-align: right;\">\n      <th></th>\n      <th>lag1</th>\n      <th>lag2</th>\n      <th>lag3</th>\n      <th>lag4</th>\n      <th>CR</th>\n      <th>HR</th>\n      <th>XHR</th>\n      <th>RH</th>\n      <th>IS_MONDAY</th>\n      <th>IS_TUESDAY</th>\n      <th>...</th>\n      <th>IS_JULY</th>\n      <th>IS_AUGUST</th>\n      <th>IS_SEPTEMBER</th>\n      <th>IS_OCTOBER</th>\n      <th>IS_NOVEMBER</th>\n      <th>IS_DECEMBER</th>\n      <th>IS_PREVDAY_HOLIDAY</th>\n      <th>IS_CURRENTDAY_HOLIDAY</th>\n      <th>IS_NEXTDAY_HOLIDAY</th>\n      <th>IS_DAYAFTER_HOLIDAY</th>\n    </tr>\n    <tr>\n      <th>DATE</th>\n      <th></th>\n      <th></th>\n      <th></th>\n      <th></th>\n      <th></th>\n      <th></th>\n      <th></th>\n      <th></th>\n      <th></th>\n      <th></th>\n      <th></th>\n      <th></th>\n      <th></th>\n      <th></th>\n      <th></th>\n      <th></th>\n      <th></th>\n      <th></th>\n      <th></th>\n      <th></th>\n      <th></th>\n    </tr>\n  </thead>\n  <tbody>\n    <tr>\n      <th>2019-12-25 00:00:00</th>\n      <td>NaN</td>\n      <td>NaN</td>\n      <td>NaN</td>\n      <td>NaN</td>\n      <td>0.0</td>\n      <td>10.0</td>\n      <td>0.0</td>\n      <td>0.675633</td>\n      <td>0.0</td>\n      <td>0.0</td>\n      <td>...</td>\n      <td>0.0</td>\n      <td>0.0</td>\n      <td>0.0</td>\n      <td>0.0</td>\n      <td>0.0</td>\n      <td>1.0</td>\n      <td>0.0</td>\n      <td>1.0</td>\n      <td>0.0</td>\n      <td>0.0</td>\n    </tr>\n    <tr>\n      <th>2019-12-25 01:00:00</th>\n      <td>NaN</td>\n      <td>NaN</td>\n      <td>NaN</td>\n      <td>NaN</td>\n      <td>0.0</td>\n      <td>13.0</td>\n      <td>2.0</td>\n      <td>0.788691</td>\n      <td>0.0</td>\n      <td>0.0</td>\n      <td>...</td>\n      <td>0.0</td>\n      <td>0.0</td>\n      <td>0.0</td>\n      <td>0.0</td>\n      <td>0.0</td>\n      <td>1.0</td>\n      <td>0.0</td>\n      <td>1.0</td>\n      <td>0.0</td>\n      <td>0.0</td>\n    </tr>\n    <tr>\n      <th>2019-12-25 02:00:00</th>\n      <td>NaN</td>\n      <td>NaN</td>\n      <td>NaN</td>\n      <td>NaN</td>\n      <td>0.0</td>\n      <td>13.0</td>\n      <td>2.0</td>\n      <td>0.787841</td>\n      <td>0.0</td>\n      <td>0.0</td>\n      <td>...</td>\n      <td>0.0</td>\n      <td>0.0</td>\n      <td>0.0</td>\n      <td>0.0</td>\n      <td>0.0</td>\n      <td>1.0</td>\n      <td>0.0</td>\n      <td>1.0</td>\n      <td>0.0</td>\n      <td>0.0</td>\n    </tr>\n    <tr>\n      <th>2019-12-25 03:00:00</th>\n      <td>NaN</td>\n      <td>NaN</td>\n      <td>NaN</td>\n      <td>NaN</td>\n      <td>0.0</td>\n      <td>14.0</td>\n      <td>4.0</td>\n      <td>0.852405</td>\n      <td>0.0</td>\n      <td>0.0</td>\n      <td>...</td>\n      <td>0.0</td>\n      <td>0.0</td>\n      <td>0.0</td>\n      <td>0.0</td>\n      <td>0.0</td>\n      <td>1.0</td>\n      <td>0.0</td>\n      <td>1.0</td>\n      <td>0.0</td>\n      <td>0.0</td>\n    </tr>\n    <tr>\n      <th>2019-12-25 04:00:00</th>\n      <td>NaN</td>\n      <td>NaN</td>\n      <td>NaN</td>\n      <td>NaN</td>\n      <td>0.0</td>\n      <td>15.0</td>\n      <td>4.0</td>\n      <td>0.851784</td>\n      <td>0.0</td>\n      <td>0.0</td>\n      <td>...</td>\n      <td>0.0</td>\n      <td>0.0</td>\n      <td>0.0</td>\n      <td>0.0</td>\n      <td>0.0</td>\n      <td>1.0</td>\n      <td>0.0</td>\n      <td>1.0</td>\n      <td>0.0</td>\n      <td>0.0</td>\n    </tr>\n    <tr>\n      <th>...</th>\n      <td>...</td>\n      <td>...</td>\n      <td>...</td>\n      <td>...</td>\n      <td>...</td>\n      <td>...</td>\n      <td>...</td>\n      <td>...</td>\n      <td>...</td>\n      <td>...</td>\n      <td>...</td>\n      <td>...</td>\n      <td>...</td>\n      <td>...</td>\n      <td>...</td>\n      <td>...</td>\n      <td>...</td>\n      <td>...</td>\n      <td>...</td>\n      <td>...</td>\n      <td>...</td>\n    </tr>\n    <tr>\n      <th>2019-12-31 19:00:00</th>\n      <td>NaN</td>\n      <td>NaN</td>\n      <td>NaN</td>\n      <td>NaN</td>\n      <td>0.0</td>\n      <td>4.0</td>\n      <td>0.0</td>\n      <td>0.398229</td>\n      <td>0.0</td>\n      <td>1.0</td>\n      <td>...</td>\n      <td>0.0</td>\n      <td>0.0</td>\n      <td>0.0</td>\n      <td>0.0</td>\n      <td>0.0</td>\n      <td>1.0</td>\n      <td>0.0</td>\n      <td>0.0</td>\n      <td>1.0</td>\n      <td>0.0</td>\n    </tr>\n    <tr>\n      <th>2019-12-31 20:00:00</th>\n      <td>NaN</td>\n      <td>NaN</td>\n      <td>NaN</td>\n      <td>NaN</td>\n      <td>0.0</td>\n      <td>4.0</td>\n      <td>0.0</td>\n      <td>0.396591</td>\n      <td>0.0</td>\n      <td>1.0</td>\n      <td>...</td>\n      <td>0.0</td>\n      <td>0.0</td>\n      <td>0.0</td>\n      <td>0.0</td>\n      <td>0.0</td>\n      <td>1.0</td>\n      <td>0.0</td>\n      <td>0.0</td>\n      <td>1.0</td>\n      <td>0.0</td>\n    </tr>\n    <tr>\n      <th>2019-12-31 21:00:00</th>\n      <td>NaN</td>\n      <td>NaN</td>\n      <td>NaN</td>\n      <td>NaN</td>\n      <td>0.0</td>\n      <td>5.0</td>\n      <td>0.0</td>\n      <td>0.411376</td>\n      <td>0.0</td>\n      <td>1.0</td>\n      <td>...</td>\n      <td>0.0</td>\n      <td>0.0</td>\n      <td>0.0</td>\n      <td>0.0</td>\n      <td>0.0</td>\n      <td>1.0</td>\n      <td>0.0</td>\n      <td>0.0</td>\n      <td>1.0</td>\n      <td>0.0</td>\n    </tr>\n    <tr>\n      <th>2019-12-31 22:00:00</th>\n      <td>NaN</td>\n      <td>NaN</td>\n      <td>NaN</td>\n      <td>NaN</td>\n      <td>0.0</td>\n      <td>8.0</td>\n      <td>0.0</td>\n      <td>0.515690</td>\n      <td>0.0</td>\n      <td>1.0</td>\n      <td>...</td>\n      <td>0.0</td>\n      <td>0.0</td>\n      <td>0.0</td>\n      <td>0.0</td>\n      <td>0.0</td>\n      <td>1.0</td>\n      <td>0.0</td>\n      <td>0.0</td>\n      <td>1.0</td>\n      <td>0.0</td>\n    </tr>\n    <tr>\n      <th>2019-12-31 23:00:00</th>\n      <td>NaN</td>\n      <td>NaN</td>\n      <td>NaN</td>\n      <td>NaN</td>\n      <td>0.0</td>\n      <td>8.0</td>\n      <td>0.0</td>\n      <td>0.495189</td>\n      <td>0.0</td>\n      <td>1.0</td>\n      <td>...</td>\n      <td>0.0</td>\n      <td>0.0</td>\n      <td>0.0</td>\n      <td>0.0</td>\n      <td>0.0</td>\n      <td>1.0</td>\n      <td>0.0</td>\n      <td>0.0</td>\n      <td>1.0</td>\n      <td>0.0</td>\n    </tr>\n  </tbody>\n</table>\n<p>168 rows × 31 columns</p>\n</div>"
     },
     "execution_count": 15,
     "metadata": {},
     "output_type": "execute_result"
    }
   ],
   "source": [
    "x_test = pd.DataFrame(x_test)\n",
    "x_test.set_index(pd.to_datetime(x_test.index), inplace=True)\n",
    "\n",
    "x_test"
   ],
   "metadata": {
    "collapsed": false,
    "pycharm": {
     "name": "#%%\n"
    }
   }
  },
  {
   "cell_type": "code",
   "execution_count": 16,
   "outputs": [
    {
     "data": {
      "text/plain": "                        lag1     lag2     lag3     lag4   CR    HR  XHR  \\\nDATE                                                                      \n2019-12-25 00:00:00      NaN      NaN      NaN      NaN  0.0  10.0  0.0   \n2019-12-25 01:00:00  11146.0      NaN      NaN      NaN  0.0  13.0  2.0   \n2019-12-25 02:00:00  11111.0  11146.0      NaN      NaN  0.0  13.0  2.0   \n2019-12-25 03:00:00  11150.0  11111.0  11146.0      NaN  0.0  14.0  4.0   \n2019-12-25 04:00:00  11307.0  11150.0  11111.0  11146.0  0.0  15.0  4.0   \n...                      ...      ...      ...      ...  ...   ...  ...   \n2019-12-31 19:00:00  13813.0  13702.0  12826.0  12278.0  0.0   4.0  0.0   \n2019-12-31 20:00:00  13761.0  13813.0  13702.0  12826.0  0.0   4.0  0.0   \n2019-12-31 21:00:00  13642.0  13761.0  13813.0  13702.0  0.0   5.0  0.0   \n2019-12-31 22:00:00  13310.0  13642.0  13761.0  13813.0  0.0   8.0  0.0   \n2019-12-31 23:00:00  12781.0  13310.0  13642.0  13761.0  0.0   8.0  0.0   \n\n                           RH  IS_MONDAY  IS_TUESDAY  ...  IS_JULY  IS_AUGUST  \\\nDATE                                                  ...                       \n2019-12-25 00:00:00  0.675633        0.0         0.0  ...      0.0        0.0   \n2019-12-25 01:00:00  0.788691        0.0         0.0  ...      0.0        0.0   \n2019-12-25 02:00:00  0.787841        0.0         0.0  ...      0.0        0.0   \n2019-12-25 03:00:00  0.852405        0.0         0.0  ...      0.0        0.0   \n2019-12-25 04:00:00  0.851784        0.0         0.0  ...      0.0        0.0   \n...                       ...        ...         ...  ...      ...        ...   \n2019-12-31 19:00:00  0.398229        0.0         1.0  ...      0.0        0.0   \n2019-12-31 20:00:00  0.396591        0.0         1.0  ...      0.0        0.0   \n2019-12-31 21:00:00  0.411376        0.0         1.0  ...      0.0        0.0   \n2019-12-31 22:00:00  0.515690        0.0         1.0  ...      0.0        0.0   \n2019-12-31 23:00:00  0.495189        0.0         1.0  ...      0.0        0.0   \n\n                     IS_SEPTEMBER  IS_OCTOBER  IS_NOVEMBER  IS_DECEMBER  \\\nDATE                                                                      \n2019-12-25 00:00:00           0.0         0.0          0.0          1.0   \n2019-12-25 01:00:00           0.0         0.0          0.0          1.0   \n2019-12-25 02:00:00           0.0         0.0          0.0          1.0   \n2019-12-25 03:00:00           0.0         0.0          0.0          1.0   \n2019-12-25 04:00:00           0.0         0.0          0.0          1.0   \n...                           ...         ...          ...          ...   \n2019-12-31 19:00:00           0.0         0.0          0.0          1.0   \n2019-12-31 20:00:00           0.0         0.0          0.0          1.0   \n2019-12-31 21:00:00           0.0         0.0          0.0          1.0   \n2019-12-31 22:00:00           0.0         0.0          0.0          1.0   \n2019-12-31 23:00:00           0.0         0.0          0.0          1.0   \n\n                     IS_PREVDAY_HOLIDAY  IS_CURRENTDAY_HOLIDAY  \\\nDATE                                                             \n2019-12-25 00:00:00                 0.0                    1.0   \n2019-12-25 01:00:00                 0.0                    1.0   \n2019-12-25 02:00:00                 0.0                    1.0   \n2019-12-25 03:00:00                 0.0                    1.0   \n2019-12-25 04:00:00                 0.0                    1.0   \n...                                 ...                    ...   \n2019-12-31 19:00:00                 0.0                    0.0   \n2019-12-31 20:00:00                 0.0                    0.0   \n2019-12-31 21:00:00                 0.0                    0.0   \n2019-12-31 22:00:00                 0.0                    0.0   \n2019-12-31 23:00:00                 0.0                    0.0   \n\n                     IS_NEXTDAY_HOLIDAY  IS_DAYAFTER_HOLIDAY  \nDATE                                                          \n2019-12-25 00:00:00                 0.0                  0.0  \n2019-12-25 01:00:00                 0.0                  0.0  \n2019-12-25 02:00:00                 0.0                  0.0  \n2019-12-25 03:00:00                 0.0                  0.0  \n2019-12-25 04:00:00                 0.0                  0.0  \n...                                 ...                  ...  \n2019-12-31 19:00:00                 1.0                  0.0  \n2019-12-31 20:00:00                 1.0                  0.0  \n2019-12-31 21:00:00                 1.0                  0.0  \n2019-12-31 22:00:00                 1.0                  0.0  \n2019-12-31 23:00:00                 1.0                  0.0  \n\n[168 rows x 31 columns]",
      "text/html": "<div>\n<style scoped>\n    .dataframe tbody tr th:only-of-type {\n        vertical-align: middle;\n    }\n\n    .dataframe tbody tr th {\n        vertical-align: top;\n    }\n\n    .dataframe thead th {\n        text-align: right;\n    }\n</style>\n<table border=\"1\" class=\"dataframe\">\n  <thead>\n    <tr style=\"text-align: right;\">\n      <th></th>\n      <th>lag1</th>\n      <th>lag2</th>\n      <th>lag3</th>\n      <th>lag4</th>\n      <th>CR</th>\n      <th>HR</th>\n      <th>XHR</th>\n      <th>RH</th>\n      <th>IS_MONDAY</th>\n      <th>IS_TUESDAY</th>\n      <th>...</th>\n      <th>IS_JULY</th>\n      <th>IS_AUGUST</th>\n      <th>IS_SEPTEMBER</th>\n      <th>IS_OCTOBER</th>\n      <th>IS_NOVEMBER</th>\n      <th>IS_DECEMBER</th>\n      <th>IS_PREVDAY_HOLIDAY</th>\n      <th>IS_CURRENTDAY_HOLIDAY</th>\n      <th>IS_NEXTDAY_HOLIDAY</th>\n      <th>IS_DAYAFTER_HOLIDAY</th>\n    </tr>\n    <tr>\n      <th>DATE</th>\n      <th></th>\n      <th></th>\n      <th></th>\n      <th></th>\n      <th></th>\n      <th></th>\n      <th></th>\n      <th></th>\n      <th></th>\n      <th></th>\n      <th></th>\n      <th></th>\n      <th></th>\n      <th></th>\n      <th></th>\n      <th></th>\n      <th></th>\n      <th></th>\n      <th></th>\n      <th></th>\n      <th></th>\n    </tr>\n  </thead>\n  <tbody>\n    <tr>\n      <th>2019-12-25 00:00:00</th>\n      <td>NaN</td>\n      <td>NaN</td>\n      <td>NaN</td>\n      <td>NaN</td>\n      <td>0.0</td>\n      <td>10.0</td>\n      <td>0.0</td>\n      <td>0.675633</td>\n      <td>0.0</td>\n      <td>0.0</td>\n      <td>...</td>\n      <td>0.0</td>\n      <td>0.0</td>\n      <td>0.0</td>\n      <td>0.0</td>\n      <td>0.0</td>\n      <td>1.0</td>\n      <td>0.0</td>\n      <td>1.0</td>\n      <td>0.0</td>\n      <td>0.0</td>\n    </tr>\n    <tr>\n      <th>2019-12-25 01:00:00</th>\n      <td>11146.0</td>\n      <td>NaN</td>\n      <td>NaN</td>\n      <td>NaN</td>\n      <td>0.0</td>\n      <td>13.0</td>\n      <td>2.0</td>\n      <td>0.788691</td>\n      <td>0.0</td>\n      <td>0.0</td>\n      <td>...</td>\n      <td>0.0</td>\n      <td>0.0</td>\n      <td>0.0</td>\n      <td>0.0</td>\n      <td>0.0</td>\n      <td>1.0</td>\n      <td>0.0</td>\n      <td>1.0</td>\n      <td>0.0</td>\n      <td>0.0</td>\n    </tr>\n    <tr>\n      <th>2019-12-25 02:00:00</th>\n      <td>11111.0</td>\n      <td>11146.0</td>\n      <td>NaN</td>\n      <td>NaN</td>\n      <td>0.0</td>\n      <td>13.0</td>\n      <td>2.0</td>\n      <td>0.787841</td>\n      <td>0.0</td>\n      <td>0.0</td>\n      <td>...</td>\n      <td>0.0</td>\n      <td>0.0</td>\n      <td>0.0</td>\n      <td>0.0</td>\n      <td>0.0</td>\n      <td>1.0</td>\n      <td>0.0</td>\n      <td>1.0</td>\n      <td>0.0</td>\n      <td>0.0</td>\n    </tr>\n    <tr>\n      <th>2019-12-25 03:00:00</th>\n      <td>11150.0</td>\n      <td>11111.0</td>\n      <td>11146.0</td>\n      <td>NaN</td>\n      <td>0.0</td>\n      <td>14.0</td>\n      <td>4.0</td>\n      <td>0.852405</td>\n      <td>0.0</td>\n      <td>0.0</td>\n      <td>...</td>\n      <td>0.0</td>\n      <td>0.0</td>\n      <td>0.0</td>\n      <td>0.0</td>\n      <td>0.0</td>\n      <td>1.0</td>\n      <td>0.0</td>\n      <td>1.0</td>\n      <td>0.0</td>\n      <td>0.0</td>\n    </tr>\n    <tr>\n      <th>2019-12-25 04:00:00</th>\n      <td>11307.0</td>\n      <td>11150.0</td>\n      <td>11111.0</td>\n      <td>11146.0</td>\n      <td>0.0</td>\n      <td>15.0</td>\n      <td>4.0</td>\n      <td>0.851784</td>\n      <td>0.0</td>\n      <td>0.0</td>\n      <td>...</td>\n      <td>0.0</td>\n      <td>0.0</td>\n      <td>0.0</td>\n      <td>0.0</td>\n      <td>0.0</td>\n      <td>1.0</td>\n      <td>0.0</td>\n      <td>1.0</td>\n      <td>0.0</td>\n      <td>0.0</td>\n    </tr>\n    <tr>\n      <th>...</th>\n      <td>...</td>\n      <td>...</td>\n      <td>...</td>\n      <td>...</td>\n      <td>...</td>\n      <td>...</td>\n      <td>...</td>\n      <td>...</td>\n      <td>...</td>\n      <td>...</td>\n      <td>...</td>\n      <td>...</td>\n      <td>...</td>\n      <td>...</td>\n      <td>...</td>\n      <td>...</td>\n      <td>...</td>\n      <td>...</td>\n      <td>...</td>\n      <td>...</td>\n      <td>...</td>\n    </tr>\n    <tr>\n      <th>2019-12-31 19:00:00</th>\n      <td>13813.0</td>\n      <td>13702.0</td>\n      <td>12826.0</td>\n      <td>12278.0</td>\n      <td>0.0</td>\n      <td>4.0</td>\n      <td>0.0</td>\n      <td>0.398229</td>\n      <td>0.0</td>\n      <td>1.0</td>\n      <td>...</td>\n      <td>0.0</td>\n      <td>0.0</td>\n      <td>0.0</td>\n      <td>0.0</td>\n      <td>0.0</td>\n      <td>1.0</td>\n      <td>0.0</td>\n      <td>0.0</td>\n      <td>1.0</td>\n      <td>0.0</td>\n    </tr>\n    <tr>\n      <th>2019-12-31 20:00:00</th>\n      <td>13761.0</td>\n      <td>13813.0</td>\n      <td>13702.0</td>\n      <td>12826.0</td>\n      <td>0.0</td>\n      <td>4.0</td>\n      <td>0.0</td>\n      <td>0.396591</td>\n      <td>0.0</td>\n      <td>1.0</td>\n      <td>...</td>\n      <td>0.0</td>\n      <td>0.0</td>\n      <td>0.0</td>\n      <td>0.0</td>\n      <td>0.0</td>\n      <td>1.0</td>\n      <td>0.0</td>\n      <td>0.0</td>\n      <td>1.0</td>\n      <td>0.0</td>\n    </tr>\n    <tr>\n      <th>2019-12-31 21:00:00</th>\n      <td>13642.0</td>\n      <td>13761.0</td>\n      <td>13813.0</td>\n      <td>13702.0</td>\n      <td>0.0</td>\n      <td>5.0</td>\n      <td>0.0</td>\n      <td>0.411376</td>\n      <td>0.0</td>\n      <td>1.0</td>\n      <td>...</td>\n      <td>0.0</td>\n      <td>0.0</td>\n      <td>0.0</td>\n      <td>0.0</td>\n      <td>0.0</td>\n      <td>1.0</td>\n      <td>0.0</td>\n      <td>0.0</td>\n      <td>1.0</td>\n      <td>0.0</td>\n    </tr>\n    <tr>\n      <th>2019-12-31 22:00:00</th>\n      <td>13310.0</td>\n      <td>13642.0</td>\n      <td>13761.0</td>\n      <td>13813.0</td>\n      <td>0.0</td>\n      <td>8.0</td>\n      <td>0.0</td>\n      <td>0.515690</td>\n      <td>0.0</td>\n      <td>1.0</td>\n      <td>...</td>\n      <td>0.0</td>\n      <td>0.0</td>\n      <td>0.0</td>\n      <td>0.0</td>\n      <td>0.0</td>\n      <td>1.0</td>\n      <td>0.0</td>\n      <td>0.0</td>\n      <td>1.0</td>\n      <td>0.0</td>\n    </tr>\n    <tr>\n      <th>2019-12-31 23:00:00</th>\n      <td>12781.0</td>\n      <td>13310.0</td>\n      <td>13642.0</td>\n      <td>13761.0</td>\n      <td>0.0</td>\n      <td>8.0</td>\n      <td>0.0</td>\n      <td>0.495189</td>\n      <td>0.0</td>\n      <td>1.0</td>\n      <td>...</td>\n      <td>0.0</td>\n      <td>0.0</td>\n      <td>0.0</td>\n      <td>0.0</td>\n      <td>0.0</td>\n      <td>1.0</td>\n      <td>0.0</td>\n      <td>0.0</td>\n      <td>1.0</td>\n      <td>0.0</td>\n    </tr>\n  </tbody>\n</table>\n<p>168 rows × 31 columns</p>\n</div>"
     },
     "execution_count": 16,
     "metadata": {},
     "output_type": "execute_result"
    }
   ],
   "source": [
    "from datetime import datetime\n",
    "from datetime import timedelta\n",
    "\n",
    "for index, row in x_test.iterrows():\n",
    "    lag1_time = index - timedelta(hours=1)\n",
    "    lag2_time = index - timedelta(hours=2)\n",
    "    lag3_time = index - timedelta(hours=3)\n",
    "    lag4_time = index - timedelta(hours=4)\n",
    "\n",
    "    if lag1_time in pred.index:\n",
    "        row.lag1 = pred.loc[lag1_time]\n",
    "\n",
    "    if lag2_time in pred.index:\n",
    "        row.lag2 = pred.loc[lag2_time]\n",
    "\n",
    "    if lag3_time in pred.index:\n",
    "        row.lag3 = pred.loc[lag3_time]\n",
    "\n",
    "    if lag4_time in pred.index:\n",
    "        row.lag4 = pred.loc[lag4_time]\n",
    "\n",
    "x_test"
   ],
   "metadata": {
    "collapsed": false,
    "pycharm": {
     "name": "#%%\n"
    }
   }
  },
  {
   "cell_type": "code",
   "execution_count": 17,
   "outputs": [
    {
     "data": {
      "text/plain": "                          MW\nDATE                        \n2010-01-01 04:00:00   9851.0\n2010-01-01 05:00:00  10178.0\n2010-01-01 06:00:00  10497.0\n2010-01-01 07:00:00  10749.0\n2010-01-01 08:00:00  11000.0\n...                      ...\n2019-12-24 19:00:00  11706.0\n2019-12-24 20:00:00  11710.0\n2019-12-24 21:00:00  11664.0\n2019-12-24 22:00:00  11519.0\n2019-12-24 23:00:00  11315.0\n\n[87476 rows x 1 columns]",
      "text/html": "<div>\n<style scoped>\n    .dataframe tbody tr th:only-of-type {\n        vertical-align: middle;\n    }\n\n    .dataframe tbody tr th {\n        vertical-align: top;\n    }\n\n    .dataframe thead th {\n        text-align: right;\n    }\n</style>\n<table border=\"1\" class=\"dataframe\">\n  <thead>\n    <tr style=\"text-align: right;\">\n      <th></th>\n      <th>MW</th>\n    </tr>\n    <tr>\n      <th>DATE</th>\n      <th></th>\n    </tr>\n  </thead>\n  <tbody>\n    <tr>\n      <th>2010-01-01 04:00:00</th>\n      <td>9851.0</td>\n    </tr>\n    <tr>\n      <th>2010-01-01 05:00:00</th>\n      <td>10178.0</td>\n    </tr>\n    <tr>\n      <th>2010-01-01 06:00:00</th>\n      <td>10497.0</td>\n    </tr>\n    <tr>\n      <th>2010-01-01 07:00:00</th>\n      <td>10749.0</td>\n    </tr>\n    <tr>\n      <th>2010-01-01 08:00:00</th>\n      <td>11000.0</td>\n    </tr>\n    <tr>\n      <th>...</th>\n      <td>...</td>\n    </tr>\n    <tr>\n      <th>2019-12-24 19:00:00</th>\n      <td>11706.0</td>\n    </tr>\n    <tr>\n      <th>2019-12-24 20:00:00</th>\n      <td>11710.0</td>\n    </tr>\n    <tr>\n      <th>2019-12-24 21:00:00</th>\n      <td>11664.0</td>\n    </tr>\n    <tr>\n      <th>2019-12-24 22:00:00</th>\n      <td>11519.0</td>\n    </tr>\n    <tr>\n      <th>2019-12-24 23:00:00</th>\n      <td>11315.0</td>\n    </tr>\n  </tbody>\n</table>\n<p>87476 rows × 1 columns</p>\n</div>"
     },
     "execution_count": 17,
     "metadata": {},
     "output_type": "execute_result"
    }
   ],
   "source": [
    "y_train = pd.DataFrame(y_train)\n",
    "y_train.set_index(pd.to_datetime(y_train.index), inplace=True)\n",
    "y_train"
   ],
   "metadata": {
    "collapsed": false,
    "pycharm": {
     "name": "#%%\n"
    }
   }
  },
  {
   "cell_type": "code",
   "execution_count": 18,
   "outputs": [
    {
     "data": {
      "text/plain": "                        lag1     lag2     lag3     lag4   CR    HR  XHR  \\\nDATE                                                                      \n2019-12-25 00:00:00  11315.0  11519.0  11664.0  11710.0  0.0  10.0  0.0   \n2019-12-25 01:00:00  11146.0  11315.0  11519.0  11664.0  0.0  13.0  2.0   \n2019-12-25 02:00:00  11111.0  11146.0  11315.0  11519.0  0.0  13.0  2.0   \n2019-12-25 03:00:00  11150.0  11111.0  11146.0  11315.0  0.0  14.0  4.0   \n2019-12-25 04:00:00  11307.0  11150.0  11111.0  11146.0  0.0  15.0  4.0   \n...                      ...      ...      ...      ...  ...   ...  ...   \n2019-12-31 19:00:00  13813.0  13702.0  12826.0  12278.0  0.0   4.0  0.0   \n2019-12-31 20:00:00  13761.0  13813.0  13702.0  12826.0  0.0   4.0  0.0   \n2019-12-31 21:00:00  13642.0  13761.0  13813.0  13702.0  0.0   5.0  0.0   \n2019-12-31 22:00:00  13310.0  13642.0  13761.0  13813.0  0.0   8.0  0.0   \n2019-12-31 23:00:00  12781.0  13310.0  13642.0  13761.0  0.0   8.0  0.0   \n\n                           RH  IS_MONDAY  IS_TUESDAY  ...  IS_JULY  IS_AUGUST  \\\nDATE                                                  ...                       \n2019-12-25 00:00:00  0.675633        0.0         0.0  ...      0.0        0.0   \n2019-12-25 01:00:00  0.788691        0.0         0.0  ...      0.0        0.0   \n2019-12-25 02:00:00  0.787841        0.0         0.0  ...      0.0        0.0   \n2019-12-25 03:00:00  0.852405        0.0         0.0  ...      0.0        0.0   \n2019-12-25 04:00:00  0.851784        0.0         0.0  ...      0.0        0.0   \n...                       ...        ...         ...  ...      ...        ...   \n2019-12-31 19:00:00  0.398229        0.0         1.0  ...      0.0        0.0   \n2019-12-31 20:00:00  0.396591        0.0         1.0  ...      0.0        0.0   \n2019-12-31 21:00:00  0.411376        0.0         1.0  ...      0.0        0.0   \n2019-12-31 22:00:00  0.515690        0.0         1.0  ...      0.0        0.0   \n2019-12-31 23:00:00  0.495189        0.0         1.0  ...      0.0        0.0   \n\n                     IS_SEPTEMBER  IS_OCTOBER  IS_NOVEMBER  IS_DECEMBER  \\\nDATE                                                                      \n2019-12-25 00:00:00           0.0         0.0          0.0          1.0   \n2019-12-25 01:00:00           0.0         0.0          0.0          1.0   \n2019-12-25 02:00:00           0.0         0.0          0.0          1.0   \n2019-12-25 03:00:00           0.0         0.0          0.0          1.0   \n2019-12-25 04:00:00           0.0         0.0          0.0          1.0   \n...                           ...         ...          ...          ...   \n2019-12-31 19:00:00           0.0         0.0          0.0          1.0   \n2019-12-31 20:00:00           0.0         0.0          0.0          1.0   \n2019-12-31 21:00:00           0.0         0.0          0.0          1.0   \n2019-12-31 22:00:00           0.0         0.0          0.0          1.0   \n2019-12-31 23:00:00           0.0         0.0          0.0          1.0   \n\n                     IS_PREVDAY_HOLIDAY  IS_CURRENTDAY_HOLIDAY  \\\nDATE                                                             \n2019-12-25 00:00:00                 0.0                    1.0   \n2019-12-25 01:00:00                 0.0                    1.0   \n2019-12-25 02:00:00                 0.0                    1.0   \n2019-12-25 03:00:00                 0.0                    1.0   \n2019-12-25 04:00:00                 0.0                    1.0   \n...                                 ...                    ...   \n2019-12-31 19:00:00                 0.0                    0.0   \n2019-12-31 20:00:00                 0.0                    0.0   \n2019-12-31 21:00:00                 0.0                    0.0   \n2019-12-31 22:00:00                 0.0                    0.0   \n2019-12-31 23:00:00                 0.0                    0.0   \n\n                     IS_NEXTDAY_HOLIDAY  IS_DAYAFTER_HOLIDAY  \nDATE                                                          \n2019-12-25 00:00:00                 0.0                  0.0  \n2019-12-25 01:00:00                 0.0                  0.0  \n2019-12-25 02:00:00                 0.0                  0.0  \n2019-12-25 03:00:00                 0.0                  0.0  \n2019-12-25 04:00:00                 0.0                  0.0  \n...                                 ...                  ...  \n2019-12-31 19:00:00                 1.0                  0.0  \n2019-12-31 20:00:00                 1.0                  0.0  \n2019-12-31 21:00:00                 1.0                  0.0  \n2019-12-31 22:00:00                 1.0                  0.0  \n2019-12-31 23:00:00                 1.0                  0.0  \n\n[168 rows x 31 columns]",
      "text/html": "<div>\n<style scoped>\n    .dataframe tbody tr th:only-of-type {\n        vertical-align: middle;\n    }\n\n    .dataframe tbody tr th {\n        vertical-align: top;\n    }\n\n    .dataframe thead th {\n        text-align: right;\n    }\n</style>\n<table border=\"1\" class=\"dataframe\">\n  <thead>\n    <tr style=\"text-align: right;\">\n      <th></th>\n      <th>lag1</th>\n      <th>lag2</th>\n      <th>lag3</th>\n      <th>lag4</th>\n      <th>CR</th>\n      <th>HR</th>\n      <th>XHR</th>\n      <th>RH</th>\n      <th>IS_MONDAY</th>\n      <th>IS_TUESDAY</th>\n      <th>...</th>\n      <th>IS_JULY</th>\n      <th>IS_AUGUST</th>\n      <th>IS_SEPTEMBER</th>\n      <th>IS_OCTOBER</th>\n      <th>IS_NOVEMBER</th>\n      <th>IS_DECEMBER</th>\n      <th>IS_PREVDAY_HOLIDAY</th>\n      <th>IS_CURRENTDAY_HOLIDAY</th>\n      <th>IS_NEXTDAY_HOLIDAY</th>\n      <th>IS_DAYAFTER_HOLIDAY</th>\n    </tr>\n    <tr>\n      <th>DATE</th>\n      <th></th>\n      <th></th>\n      <th></th>\n      <th></th>\n      <th></th>\n      <th></th>\n      <th></th>\n      <th></th>\n      <th></th>\n      <th></th>\n      <th></th>\n      <th></th>\n      <th></th>\n      <th></th>\n      <th></th>\n      <th></th>\n      <th></th>\n      <th></th>\n      <th></th>\n      <th></th>\n      <th></th>\n    </tr>\n  </thead>\n  <tbody>\n    <tr>\n      <th>2019-12-25 00:00:00</th>\n      <td>11315.0</td>\n      <td>11519.0</td>\n      <td>11664.0</td>\n      <td>11710.0</td>\n      <td>0.0</td>\n      <td>10.0</td>\n      <td>0.0</td>\n      <td>0.675633</td>\n      <td>0.0</td>\n      <td>0.0</td>\n      <td>...</td>\n      <td>0.0</td>\n      <td>0.0</td>\n      <td>0.0</td>\n      <td>0.0</td>\n      <td>0.0</td>\n      <td>1.0</td>\n      <td>0.0</td>\n      <td>1.0</td>\n      <td>0.0</td>\n      <td>0.0</td>\n    </tr>\n    <tr>\n      <th>2019-12-25 01:00:00</th>\n      <td>11146.0</td>\n      <td>11315.0</td>\n      <td>11519.0</td>\n      <td>11664.0</td>\n      <td>0.0</td>\n      <td>13.0</td>\n      <td>2.0</td>\n      <td>0.788691</td>\n      <td>0.0</td>\n      <td>0.0</td>\n      <td>...</td>\n      <td>0.0</td>\n      <td>0.0</td>\n      <td>0.0</td>\n      <td>0.0</td>\n      <td>0.0</td>\n      <td>1.0</td>\n      <td>0.0</td>\n      <td>1.0</td>\n      <td>0.0</td>\n      <td>0.0</td>\n    </tr>\n    <tr>\n      <th>2019-12-25 02:00:00</th>\n      <td>11111.0</td>\n      <td>11146.0</td>\n      <td>11315.0</td>\n      <td>11519.0</td>\n      <td>0.0</td>\n      <td>13.0</td>\n      <td>2.0</td>\n      <td>0.787841</td>\n      <td>0.0</td>\n      <td>0.0</td>\n      <td>...</td>\n      <td>0.0</td>\n      <td>0.0</td>\n      <td>0.0</td>\n      <td>0.0</td>\n      <td>0.0</td>\n      <td>1.0</td>\n      <td>0.0</td>\n      <td>1.0</td>\n      <td>0.0</td>\n      <td>0.0</td>\n    </tr>\n    <tr>\n      <th>2019-12-25 03:00:00</th>\n      <td>11150.0</td>\n      <td>11111.0</td>\n      <td>11146.0</td>\n      <td>11315.0</td>\n      <td>0.0</td>\n      <td>14.0</td>\n      <td>4.0</td>\n      <td>0.852405</td>\n      <td>0.0</td>\n      <td>0.0</td>\n      <td>...</td>\n      <td>0.0</td>\n      <td>0.0</td>\n      <td>0.0</td>\n      <td>0.0</td>\n      <td>0.0</td>\n      <td>1.0</td>\n      <td>0.0</td>\n      <td>1.0</td>\n      <td>0.0</td>\n      <td>0.0</td>\n    </tr>\n    <tr>\n      <th>2019-12-25 04:00:00</th>\n      <td>11307.0</td>\n      <td>11150.0</td>\n      <td>11111.0</td>\n      <td>11146.0</td>\n      <td>0.0</td>\n      <td>15.0</td>\n      <td>4.0</td>\n      <td>0.851784</td>\n      <td>0.0</td>\n      <td>0.0</td>\n      <td>...</td>\n      <td>0.0</td>\n      <td>0.0</td>\n      <td>0.0</td>\n      <td>0.0</td>\n      <td>0.0</td>\n      <td>1.0</td>\n      <td>0.0</td>\n      <td>1.0</td>\n      <td>0.0</td>\n      <td>0.0</td>\n    </tr>\n    <tr>\n      <th>...</th>\n      <td>...</td>\n      <td>...</td>\n      <td>...</td>\n      <td>...</td>\n      <td>...</td>\n      <td>...</td>\n      <td>...</td>\n      <td>...</td>\n      <td>...</td>\n      <td>...</td>\n      <td>...</td>\n      <td>...</td>\n      <td>...</td>\n      <td>...</td>\n      <td>...</td>\n      <td>...</td>\n      <td>...</td>\n      <td>...</td>\n      <td>...</td>\n      <td>...</td>\n      <td>...</td>\n    </tr>\n    <tr>\n      <th>2019-12-31 19:00:00</th>\n      <td>13813.0</td>\n      <td>13702.0</td>\n      <td>12826.0</td>\n      <td>12278.0</td>\n      <td>0.0</td>\n      <td>4.0</td>\n      <td>0.0</td>\n      <td>0.398229</td>\n      <td>0.0</td>\n      <td>1.0</td>\n      <td>...</td>\n      <td>0.0</td>\n      <td>0.0</td>\n      <td>0.0</td>\n      <td>0.0</td>\n      <td>0.0</td>\n      <td>1.0</td>\n      <td>0.0</td>\n      <td>0.0</td>\n      <td>1.0</td>\n      <td>0.0</td>\n    </tr>\n    <tr>\n      <th>2019-12-31 20:00:00</th>\n      <td>13761.0</td>\n      <td>13813.0</td>\n      <td>13702.0</td>\n      <td>12826.0</td>\n      <td>0.0</td>\n      <td>4.0</td>\n      <td>0.0</td>\n      <td>0.396591</td>\n      <td>0.0</td>\n      <td>1.0</td>\n      <td>...</td>\n      <td>0.0</td>\n      <td>0.0</td>\n      <td>0.0</td>\n      <td>0.0</td>\n      <td>0.0</td>\n      <td>1.0</td>\n      <td>0.0</td>\n      <td>0.0</td>\n      <td>1.0</td>\n      <td>0.0</td>\n    </tr>\n    <tr>\n      <th>2019-12-31 21:00:00</th>\n      <td>13642.0</td>\n      <td>13761.0</td>\n      <td>13813.0</td>\n      <td>13702.0</td>\n      <td>0.0</td>\n      <td>5.0</td>\n      <td>0.0</td>\n      <td>0.411376</td>\n      <td>0.0</td>\n      <td>1.0</td>\n      <td>...</td>\n      <td>0.0</td>\n      <td>0.0</td>\n      <td>0.0</td>\n      <td>0.0</td>\n      <td>0.0</td>\n      <td>1.0</td>\n      <td>0.0</td>\n      <td>0.0</td>\n      <td>1.0</td>\n      <td>0.0</td>\n    </tr>\n    <tr>\n      <th>2019-12-31 22:00:00</th>\n      <td>13310.0</td>\n      <td>13642.0</td>\n      <td>13761.0</td>\n      <td>13813.0</td>\n      <td>0.0</td>\n      <td>8.0</td>\n      <td>0.0</td>\n      <td>0.515690</td>\n      <td>0.0</td>\n      <td>1.0</td>\n      <td>...</td>\n      <td>0.0</td>\n      <td>0.0</td>\n      <td>0.0</td>\n      <td>0.0</td>\n      <td>0.0</td>\n      <td>1.0</td>\n      <td>0.0</td>\n      <td>0.0</td>\n      <td>1.0</td>\n      <td>0.0</td>\n    </tr>\n    <tr>\n      <th>2019-12-31 23:00:00</th>\n      <td>12781.0</td>\n      <td>13310.0</td>\n      <td>13642.0</td>\n      <td>13761.0</td>\n      <td>0.0</td>\n      <td>8.0</td>\n      <td>0.0</td>\n      <td>0.495189</td>\n      <td>0.0</td>\n      <td>1.0</td>\n      <td>...</td>\n      <td>0.0</td>\n      <td>0.0</td>\n      <td>0.0</td>\n      <td>0.0</td>\n      <td>0.0</td>\n      <td>1.0</td>\n      <td>0.0</td>\n      <td>0.0</td>\n      <td>1.0</td>\n      <td>0.0</td>\n    </tr>\n  </tbody>\n</table>\n<p>168 rows × 31 columns</p>\n</div>"
     },
     "execution_count": 18,
     "metadata": {},
     "output_type": "execute_result"
    }
   ],
   "source": [
    "for index, row in x_test.iterrows():\n",
    "    lag1_time = index - timedelta(hours=1)\n",
    "    lag2_time = index - timedelta(hours=2)\n",
    "    lag3_time = index - timedelta(hours=3)\n",
    "    lag4_time = index - timedelta(hours=4)\n",
    "\n",
    "    if np.isnan(row.lag1):\n",
    "        row.lag1 = y_train.loc[lag1_time]\n",
    "\n",
    "    if np.isnan(row.lag2):\n",
    "        row.lag2 = y_train.loc[lag2_time]\n",
    "\n",
    "    if np.isnan(row.lag3):\n",
    "        row.lag3 = y_train.loc[lag3_time]\n",
    "\n",
    "    if np.isnan(row.lag4):\n",
    "        row.lag4 = y_train.loc[lag4_time]\n",
    "\n",
    "x_test"
   ],
   "metadata": {
    "collapsed": false,
    "pycharm": {
     "name": "#%%\n"
    }
   }
  },
  {
   "cell_type": "code",
   "execution_count": 19,
   "metadata": {
    "pycharm": {
     "name": "#%%\n"
    }
   },
   "outputs": [],
   "source": [
    "from sklearn.preprocessing import StandardScaler\n",
    "scaler = StandardScaler().fit(x_train)\n",
    "x_train_scaled = scaler.transform(x_train)\n",
    "x_test_scaled = scaler.transform(x_test)\n",
    "\n",
    "x_train_scaled = pd.DataFrame(x_train_scaled, columns=x_train.columns)\n",
    "x_test_scaled = pd.DataFrame(x_test_scaled, columns=x_test.columns)"
   ]
  },
  {
   "cell_type": "code",
   "execution_count": 20,
   "metadata": {
    "pycharm": {
     "name": "#%%\n"
    }
   },
   "outputs": [
    {
     "data": {
      "text/plain": "SVR(C=701.3536328125001, gamma=0.023333005593254352)"
     },
     "execution_count": 20,
     "metadata": {},
     "output_type": "execute_result"
    }
   ],
   "source": [
    "#model = SVR(kernel='rbf', C=701.3536328125001, gamma=0.023333005593254352)\n",
    "model = SVR(kernel='rbf', C=701.3536328125001, gamma=0.023333005593254352)\n",
    "model.fit(x_train_scaled, y_train['MW'])"
   ]
  },
  {
   "cell_type": "code",
   "execution_count": 26,
   "metadata": {
    "pycharm": {
     "name": "#%%\n"
    }
   },
   "outputs": [],
   "source": [
    "y_pred_scaled = model.predict(x_test_scaled)"
   ]
  },
  {
   "cell_type": "code",
   "execution_count": 39,
   "outputs": [
    {
     "data": {
      "text/plain": "                          MW          pred\nDATE                                      \n2019-12-25 00:00:00  11198.0  11000.383833\n2019-12-25 01:00:00  11192.0  10886.434178\n2019-12-25 02:00:00  11288.0  10937.096430\n2019-12-25 03:00:00  11511.0  11087.450845\n2019-12-25 04:00:00  11804.0  11324.634858\n...                      ...           ...\n2019-12-31 19:00:00  11682.0  13397.395605\n2019-12-31 20:00:00  11443.0  13229.537092\n2019-12-31 21:00:00  11167.0  13004.551867\n2019-12-31 22:00:00  10839.0  12674.616242\n2019-12-31 23:00:00  10593.0  12119.762812\n\n[168 rows x 2 columns]",
      "text/html": "<div>\n<style scoped>\n    .dataframe tbody tr th:only-of-type {\n        vertical-align: middle;\n    }\n\n    .dataframe tbody tr th {\n        vertical-align: top;\n    }\n\n    .dataframe thead th {\n        text-align: right;\n    }\n</style>\n<table border=\"1\" class=\"dataframe\">\n  <thead>\n    <tr style=\"text-align: right;\">\n      <th></th>\n      <th>MW</th>\n      <th>pred</th>\n    </tr>\n    <tr>\n      <th>DATE</th>\n      <th></th>\n      <th></th>\n    </tr>\n  </thead>\n  <tbody>\n    <tr>\n      <th>2019-12-25 00:00:00</th>\n      <td>11198.0</td>\n      <td>11000.383833</td>\n    </tr>\n    <tr>\n      <th>2019-12-25 01:00:00</th>\n      <td>11192.0</td>\n      <td>10886.434178</td>\n    </tr>\n    <tr>\n      <th>2019-12-25 02:00:00</th>\n      <td>11288.0</td>\n      <td>10937.096430</td>\n    </tr>\n    <tr>\n      <th>2019-12-25 03:00:00</th>\n      <td>11511.0</td>\n      <td>11087.450845</td>\n    </tr>\n    <tr>\n      <th>2019-12-25 04:00:00</th>\n      <td>11804.0</td>\n      <td>11324.634858</td>\n    </tr>\n    <tr>\n      <th>...</th>\n      <td>...</td>\n      <td>...</td>\n    </tr>\n    <tr>\n      <th>2019-12-31 19:00:00</th>\n      <td>11682.0</td>\n      <td>13397.395605</td>\n    </tr>\n    <tr>\n      <th>2019-12-31 20:00:00</th>\n      <td>11443.0</td>\n      <td>13229.537092</td>\n    </tr>\n    <tr>\n      <th>2019-12-31 21:00:00</th>\n      <td>11167.0</td>\n      <td>13004.551867</td>\n    </tr>\n    <tr>\n      <th>2019-12-31 22:00:00</th>\n      <td>10839.0</td>\n      <td>12674.616242</td>\n    </tr>\n    <tr>\n      <th>2019-12-31 23:00:00</th>\n      <td>10593.0</td>\n      <td>12119.762812</td>\n    </tr>\n  </tbody>\n</table>\n<p>168 rows × 2 columns</p>\n</div>"
     },
     "execution_count": 39,
     "metadata": {},
     "output_type": "execute_result"
    }
   ],
   "source": [
    "y_test"
   ],
   "metadata": {
    "collapsed": false,
    "pycharm": {
     "name": "#%%\n"
    }
   }
  },
  {
   "cell_type": "code",
   "execution_count": 32,
   "outputs": [
    {
     "ename": "ValueError",
     "evalue": "y_true and y_pred have different number of output (2!=1)",
     "output_type": "error",
     "traceback": [
      "\u001B[0;31m---------------------------------------------------------------------------\u001B[0m",
      "\u001B[0;31mValueError\u001B[0m                                Traceback (most recent call last)",
      "Input \u001B[0;32mIn [32]\u001B[0m, in \u001B[0;36m<cell line: 3>\u001B[0;34m()\u001B[0m\n\u001B[1;32m      1\u001B[0m \u001B[38;5;28;01mfrom\u001B[39;00m \u001B[38;5;21;01msklearn\u001B[39;00m\u001B[38;5;21;01m.\u001B[39;00m\u001B[38;5;21;01mmetrics\u001B[39;00m \u001B[38;5;28;01mimport\u001B[39;00m mean_absolute_percentage_error\n\u001B[0;32m----> 3\u001B[0m \u001B[43mmean_absolute_percentage_error\u001B[49m\u001B[43m(\u001B[49m\u001B[43my_test\u001B[49m\u001B[43m,\u001B[49m\u001B[43m \u001B[49m\u001B[43my_pred_scaled\u001B[49m\u001B[43m)\u001B[49m\n\u001B[1;32m      4\u001B[0m y_test \u001B[38;5;241m=\u001B[39m pd\u001B[38;5;241m.\u001B[39mDataFrame(y_test)\n\u001B[1;32m      5\u001B[0m y_test[\u001B[38;5;124m'\u001B[39m\u001B[38;5;124mpred\u001B[39m\u001B[38;5;124m'\u001B[39m] \u001B[38;5;241m=\u001B[39m y_pred_scaled\n",
      "File \u001B[0;32m~/PycharmProjects/SVR-PSO-Load-Forecaster/venv/lib/python3.8/site-packages/sklearn/utils/validation.py:65\u001B[0m, in \u001B[0;36m_deprecate_positional_args.<locals>._inner_deprecate_positional_args.<locals>.inner_f\u001B[0;34m(*args, **kwargs)\u001B[0m\n\u001B[1;32m     63\u001B[0m extra_args \u001B[38;5;241m=\u001B[39m \u001B[38;5;28mlen\u001B[39m(args) \u001B[38;5;241m-\u001B[39m \u001B[38;5;28mlen\u001B[39m(all_args)\n\u001B[1;32m     64\u001B[0m \u001B[38;5;28;01mif\u001B[39;00m extra_args \u001B[38;5;241m<\u001B[39m\u001B[38;5;241m=\u001B[39m \u001B[38;5;241m0\u001B[39m:\n\u001B[0;32m---> 65\u001B[0m     \u001B[38;5;28;01mreturn\u001B[39;00m \u001B[43mf\u001B[49m\u001B[43m(\u001B[49m\u001B[38;5;241;43m*\u001B[39;49m\u001B[43margs\u001B[49m\u001B[43m,\u001B[49m\u001B[43m \u001B[49m\u001B[38;5;241;43m*\u001B[39;49m\u001B[38;5;241;43m*\u001B[39;49m\u001B[43mkwargs\u001B[49m\u001B[43m)\u001B[49m\n\u001B[1;32m     67\u001B[0m \u001B[38;5;66;03m# extra_args > 0\u001B[39;00m\n\u001B[1;32m     68\u001B[0m args_msg \u001B[38;5;241m=\u001B[39m [\n\u001B[1;32m     69\u001B[0m     \u001B[38;5;124m\"\u001B[39m\u001B[38;5;132;01m{}\u001B[39;00m\u001B[38;5;124m=\u001B[39m\u001B[38;5;132;01m{}\u001B[39;00m\u001B[38;5;124m\"\u001B[39m\u001B[38;5;241m.\u001B[39mformat(name, arg)\n\u001B[1;32m     70\u001B[0m     \u001B[38;5;28;01mfor\u001B[39;00m name, arg \u001B[38;5;129;01min\u001B[39;00m \u001B[38;5;28mzip\u001B[39m(kwonly_args[:extra_args], args[\u001B[38;5;241m-\u001B[39mextra_args:])\n\u001B[1;32m     71\u001B[0m ]\n",
      "File \u001B[0;32m~/PycharmProjects/SVR-PSO-Load-Forecaster/venv/lib/python3.8/site-packages/sklearn/metrics/_regression.py:361\u001B[0m, in \u001B[0;36mmean_absolute_percentage_error\u001B[0;34m(y_true, y_pred, sample_weight, multioutput)\u001B[0m\n\u001B[1;32m    291\u001B[0m \u001B[38;5;129m@_deprecate_positional_args\u001B[39m(version\u001B[38;5;241m=\u001B[39m\u001B[38;5;124m\"\u001B[39m\u001B[38;5;124m1.1\u001B[39m\u001B[38;5;124m\"\u001B[39m)\n\u001B[1;32m    292\u001B[0m \u001B[38;5;28;01mdef\u001B[39;00m \u001B[38;5;21mmean_absolute_percentage_error\u001B[39m(\n\u001B[1;32m    293\u001B[0m     y_true, y_pred, \u001B[38;5;241m*\u001B[39m, sample_weight\u001B[38;5;241m=\u001B[39m\u001B[38;5;28;01mNone\u001B[39;00m, multioutput\u001B[38;5;241m=\u001B[39m\u001B[38;5;124m\"\u001B[39m\u001B[38;5;124muniform_average\u001B[39m\u001B[38;5;124m\"\u001B[39m\n\u001B[1;32m    294\u001B[0m ):\n\u001B[1;32m    295\u001B[0m     \u001B[38;5;124;03m\"\"\"Mean absolute percentage error (MAPE) regression loss.\u001B[39;00m\n\u001B[1;32m    296\u001B[0m \n\u001B[1;32m    297\u001B[0m \u001B[38;5;124;03m    Note here that the output is not a percentage in the range [0, 100]\u001B[39;00m\n\u001B[0;32m   (...)\u001B[0m\n\u001B[1;32m    359\u001B[0m \u001B[38;5;124;03m    112589990684262.48\u001B[39;00m\n\u001B[1;32m    360\u001B[0m \u001B[38;5;124;03m    \"\"\"\u001B[39;00m\n\u001B[0;32m--> 361\u001B[0m     y_type, y_true, y_pred, multioutput \u001B[38;5;241m=\u001B[39m \u001B[43m_check_reg_targets\u001B[49m\u001B[43m(\u001B[49m\n\u001B[1;32m    362\u001B[0m \u001B[43m        \u001B[49m\u001B[43my_true\u001B[49m\u001B[43m,\u001B[49m\u001B[43m \u001B[49m\u001B[43my_pred\u001B[49m\u001B[43m,\u001B[49m\u001B[43m \u001B[49m\u001B[43mmultioutput\u001B[49m\n\u001B[1;32m    363\u001B[0m \u001B[43m    \u001B[49m\u001B[43m)\u001B[49m\n\u001B[1;32m    364\u001B[0m     check_consistent_length(y_true, y_pred, sample_weight)\n\u001B[1;32m    365\u001B[0m     epsilon \u001B[38;5;241m=\u001B[39m np\u001B[38;5;241m.\u001B[39mfinfo(np\u001B[38;5;241m.\u001B[39mfloat64)\u001B[38;5;241m.\u001B[39meps\n",
      "File \u001B[0;32m~/PycharmProjects/SVR-PSO-Load-Forecaster/venv/lib/python3.8/site-packages/sklearn/metrics/_regression.py:105\u001B[0m, in \u001B[0;36m_check_reg_targets\u001B[0;34m(y_true, y_pred, multioutput, dtype)\u001B[0m\n\u001B[1;32m    102\u001B[0m     y_pred \u001B[38;5;241m=\u001B[39m y_pred\u001B[38;5;241m.\u001B[39mreshape((\u001B[38;5;241m-\u001B[39m\u001B[38;5;241m1\u001B[39m, \u001B[38;5;241m1\u001B[39m))\n\u001B[1;32m    104\u001B[0m \u001B[38;5;28;01mif\u001B[39;00m y_true\u001B[38;5;241m.\u001B[39mshape[\u001B[38;5;241m1\u001B[39m] \u001B[38;5;241m!=\u001B[39m y_pred\u001B[38;5;241m.\u001B[39mshape[\u001B[38;5;241m1\u001B[39m]:\n\u001B[0;32m--> 105\u001B[0m     \u001B[38;5;28;01mraise\u001B[39;00m \u001B[38;5;167;01mValueError\u001B[39;00m(\n\u001B[1;32m    106\u001B[0m         \u001B[38;5;124m\"\u001B[39m\u001B[38;5;124my_true and y_pred have different number of output (\u001B[39m\u001B[38;5;132;01m{0}\u001B[39;00m\u001B[38;5;124m!=\u001B[39m\u001B[38;5;132;01m{1}\u001B[39;00m\u001B[38;5;124m)\u001B[39m\u001B[38;5;124m\"\u001B[39m\u001B[38;5;241m.\u001B[39mformat(\n\u001B[1;32m    107\u001B[0m             y_true\u001B[38;5;241m.\u001B[39mshape[\u001B[38;5;241m1\u001B[39m], y_pred\u001B[38;5;241m.\u001B[39mshape[\u001B[38;5;241m1\u001B[39m]\n\u001B[1;32m    108\u001B[0m         )\n\u001B[1;32m    109\u001B[0m     )\n\u001B[1;32m    111\u001B[0m n_outputs \u001B[38;5;241m=\u001B[39m y_true\u001B[38;5;241m.\u001B[39mshape[\u001B[38;5;241m1\u001B[39m]\n\u001B[1;32m    112\u001B[0m allowed_multioutput_str \u001B[38;5;241m=\u001B[39m (\u001B[38;5;124m\"\u001B[39m\u001B[38;5;124mraw_values\u001B[39m\u001B[38;5;124m\"\u001B[39m, \u001B[38;5;124m\"\u001B[39m\u001B[38;5;124muniform_average\u001B[39m\u001B[38;5;124m\"\u001B[39m, \u001B[38;5;124m\"\u001B[39m\u001B[38;5;124mvariance_weighted\u001B[39m\u001B[38;5;124m\"\u001B[39m)\n",
      "\u001B[0;31mValueError\u001B[0m: y_true and y_pred have different number of output (2!=1)"
     ]
    }
   ],
   "source": [
    "from sklearn.metrics import mean_absolute_percentage_error\n",
    "\n",
    "mean_absolute_percentage_error(y_test, y_pred_scaled)\n",
    "y_test = pd.DataFrame(y_test)\n",
    "y_test['pred'] = y_pred_scaled\n",
    "y_test['mape'] = (y_test['MW'] - y_test['pred']) / y_test['MW']\n",
    "y_test"
   ],
   "metadata": {
    "collapsed": false,
    "pycharm": {
     "name": "#%%\n"
    }
   }
  },
  {
   "cell_type": "code",
   "execution_count": 40,
   "outputs": [
    {
     "data": {
      "text/plain": "                          MW          pred      mape\nDATE                                                \n2019-12-25 00:00:00  11198.0  11000.383833  0.017647\n2019-12-25 01:00:00  11192.0  10886.434178  0.027302\n2019-12-25 02:00:00  11288.0  10937.096430  0.031086\n2019-12-25 03:00:00  11511.0  11087.450845  0.036795\n2019-12-25 04:00:00  11804.0  11324.634858   0.04061\n...                      ...           ...       ...\n2019-12-31 19:00:00  11682.0  13397.395605 -0.146841\n2019-12-31 20:00:00  11443.0  13229.537092 -0.156125\n2019-12-31 21:00:00  11167.0  13004.551867 -0.164552\n2019-12-31 22:00:00  10839.0  12674.616242 -0.169353\n2019-12-31 23:00:00  10593.0  12119.762812 -0.144129\n\n[168 rows x 3 columns]",
      "text/html": "<div>\n<style scoped>\n    .dataframe tbody tr th:only-of-type {\n        vertical-align: middle;\n    }\n\n    .dataframe tbody tr th {\n        vertical-align: top;\n    }\n\n    .dataframe thead th {\n        text-align: right;\n    }\n</style>\n<table border=\"1\" class=\"dataframe\">\n  <thead>\n    <tr style=\"text-align: right;\">\n      <th></th>\n      <th>MW</th>\n      <th>pred</th>\n      <th>mape</th>\n    </tr>\n    <tr>\n      <th>DATE</th>\n      <th></th>\n      <th></th>\n      <th></th>\n    </tr>\n  </thead>\n  <tbody>\n    <tr>\n      <th>2019-12-25 00:00:00</th>\n      <td>11198.0</td>\n      <td>11000.383833</td>\n      <td>0.017647</td>\n    </tr>\n    <tr>\n      <th>2019-12-25 01:00:00</th>\n      <td>11192.0</td>\n      <td>10886.434178</td>\n      <td>0.027302</td>\n    </tr>\n    <tr>\n      <th>2019-12-25 02:00:00</th>\n      <td>11288.0</td>\n      <td>10937.096430</td>\n      <td>0.031086</td>\n    </tr>\n    <tr>\n      <th>2019-12-25 03:00:00</th>\n      <td>11511.0</td>\n      <td>11087.450845</td>\n      <td>0.036795</td>\n    </tr>\n    <tr>\n      <th>2019-12-25 04:00:00</th>\n      <td>11804.0</td>\n      <td>11324.634858</td>\n      <td>0.04061</td>\n    </tr>\n    <tr>\n      <th>...</th>\n      <td>...</td>\n      <td>...</td>\n      <td>...</td>\n    </tr>\n    <tr>\n      <th>2019-12-31 19:00:00</th>\n      <td>11682.0</td>\n      <td>13397.395605</td>\n      <td>-0.146841</td>\n    </tr>\n    <tr>\n      <th>2019-12-31 20:00:00</th>\n      <td>11443.0</td>\n      <td>13229.537092</td>\n      <td>-0.156125</td>\n    </tr>\n    <tr>\n      <th>2019-12-31 21:00:00</th>\n      <td>11167.0</td>\n      <td>13004.551867</td>\n      <td>-0.164552</td>\n    </tr>\n    <tr>\n      <th>2019-12-31 22:00:00</th>\n      <td>10839.0</td>\n      <td>12674.616242</td>\n      <td>-0.169353</td>\n    </tr>\n    <tr>\n      <th>2019-12-31 23:00:00</th>\n      <td>10593.0</td>\n      <td>12119.762812</td>\n      <td>-0.144129</td>\n    </tr>\n  </tbody>\n</table>\n<p>168 rows × 3 columns</p>\n</div>"
     },
     "execution_count": 40,
     "metadata": {},
     "output_type": "execute_result"
    }
   ],
   "source": [
    "y_test['mape'] = (y_test['MW'] - y_test['pred']) / y_test['MW']\n",
    "y_test"
   ],
   "metadata": {
    "collapsed": false,
    "pycharm": {
     "name": "#%%\n"
    }
   }
  },
  {
   "cell_type": "code",
   "execution_count": null,
   "outputs": [],
   "source": [],
   "metadata": {
    "collapsed": false,
    "pycharm": {
     "name": "#%%\n"
    }
   }
  }
 ],
 "metadata": {
  "interpreter": {
   "hash": "aee8b7b246df8f9039afb4144a1f6fd8d2ca17a180786b69acc140d282b71a49"
  },
  "kernelspec": {
   "display_name": "Python 3.10.3 64-bit",
   "language": "python",
   "name": "python3"
  },
  "language_info": {
   "codemirror_mode": {
    "name": "ipython",
    "version": 3
   },
   "file_extension": ".py",
   "mimetype": "text/x-python",
   "name": "python",
   "nbconvert_exporter": "python",
   "pygments_lexer": "ipython3",
   "version": "3.10.2"
  },
  "orig_nbformat": 4
 },
 "nbformat": 4,
 "nbformat_minor": 2
}